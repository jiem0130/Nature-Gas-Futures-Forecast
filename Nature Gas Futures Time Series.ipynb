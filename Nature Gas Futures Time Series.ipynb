{
 "cells": [
  {
   "cell_type": "markdown",
   "metadata": {},
   "source": [
    "## Natural Gas Future"
   ]
  },
  {
   "cell_type": "code",
   "execution_count": 1,
   "metadata": {
    "collapsed": true
   },
   "outputs": [],
   "source": [
    "import pandas as pd"
   ]
  },
  {
   "cell_type": "code",
   "execution_count": 2,
   "metadata": {
    "collapsed": true
   },
   "outputs": [],
   "source": [
    "naturalgas = pd.read_csv(\"Natural_Gas_Futures_Contract_2.csv\")"
   ]
  },
  {
   "cell_type": "code",
   "execution_count": 3,
   "metadata": {},
   "outputs": [
    {
     "data": {
      "text/html": [
       "<div>\n",
       "<style>\n",
       "    .dataframe thead tr:only-child th {\n",
       "        text-align: right;\n",
       "    }\n",
       "\n",
       "    .dataframe thead th {\n",
       "        text-align: left;\n",
       "    }\n",
       "\n",
       "    .dataframe tbody tr th {\n",
       "        vertical-align: top;\n",
       "    }\n",
       "</style>\n",
       "<table border=\"1\" class=\"dataframe\">\n",
       "  <thead>\n",
       "    <tr style=\"text-align: right;\">\n",
       "      <th></th>\n",
       "      <th>Day</th>\n",
       "      <th>Natural Gas Futures Contract 1  Dollars per Million Btu</th>\n",
       "    </tr>\n",
       "  </thead>\n",
       "  <tbody>\n",
       "    <tr>\n",
       "      <th>0</th>\n",
       "      <td>12/29/2017</td>\n",
       "      <td>2.953</td>\n",
       "    </tr>\n",
       "    <tr>\n",
       "      <th>1</th>\n",
       "      <td>12/28/2017</td>\n",
       "      <td>2.914</td>\n",
       "    </tr>\n",
       "    <tr>\n",
       "      <th>2</th>\n",
       "      <td>12/27/2017</td>\n",
       "      <td>2.738</td>\n",
       "    </tr>\n",
       "    <tr>\n",
       "      <th>3</th>\n",
       "      <td>12/26/2017</td>\n",
       "      <td>2.643</td>\n",
       "    </tr>\n",
       "    <tr>\n",
       "      <th>4</th>\n",
       "      <td>12/22/2017</td>\n",
       "      <td>2.667</td>\n",
       "    </tr>\n",
       "  </tbody>\n",
       "</table>\n",
       "</div>"
      ],
      "text/plain": [
       "          Day  Natural Gas Futures Contract 1  Dollars per Million Btu\n",
       "0  12/29/2017                                              2.953      \n",
       "1  12/28/2017                                              2.914      \n",
       "2  12/27/2017                                              2.738      \n",
       "3  12/26/2017                                              2.643      \n",
       "4  12/22/2017                                              2.667      "
      ]
     },
     "execution_count": 3,
     "metadata": {},
     "output_type": "execute_result"
    }
   ],
   "source": [
    "naturalgas.head(5)"
   ]
  },
  {
   "cell_type": "markdown",
   "metadata": {},
   "source": [
    "### Part 1 Data Preperation"
   ]
  },
  {
   "cell_type": "markdown",
   "metadata": {},
   "source": [
    "#### 1.1 Reorder the data"
   ]
  },
  {
   "cell_type": "code",
   "execution_count": 4,
   "metadata": {
    "collapsed": true
   },
   "outputs": [],
   "source": [
    "naturalgas['Day'] =pd.to_datetime(naturalgas['Day'])"
   ]
  },
  {
   "cell_type": "code",
   "execution_count": 5,
   "metadata": {},
   "outputs": [
    {
     "data": {
      "text/html": [
       "<div>\n",
       "<style>\n",
       "    .dataframe thead tr:only-child th {\n",
       "        text-align: right;\n",
       "    }\n",
       "\n",
       "    .dataframe thead th {\n",
       "        text-align: left;\n",
       "    }\n",
       "\n",
       "    .dataframe tbody tr th {\n",
       "        vertical-align: top;\n",
       "    }\n",
       "</style>\n",
       "<table border=\"1\" class=\"dataframe\">\n",
       "  <thead>\n",
       "    <tr style=\"text-align: right;\">\n",
       "      <th></th>\n",
       "      <th>Day</th>\n",
       "      <th>Natural Gas Futures Contract 1  Dollars per Million Btu</th>\n",
       "    </tr>\n",
       "  </thead>\n",
       "  <tbody>\n",
       "    <tr>\n",
       "      <th>0</th>\n",
       "      <td>2017-12-29</td>\n",
       "      <td>2.953</td>\n",
       "    </tr>\n",
       "    <tr>\n",
       "      <th>1</th>\n",
       "      <td>2017-12-28</td>\n",
       "      <td>2.914</td>\n",
       "    </tr>\n",
       "    <tr>\n",
       "      <th>2</th>\n",
       "      <td>2017-12-27</td>\n",
       "      <td>2.738</td>\n",
       "    </tr>\n",
       "    <tr>\n",
       "      <th>3</th>\n",
       "      <td>2017-12-26</td>\n",
       "      <td>2.643</td>\n",
       "    </tr>\n",
       "    <tr>\n",
       "      <th>4</th>\n",
       "      <td>2017-12-22</td>\n",
       "      <td>2.667</td>\n",
       "    </tr>\n",
       "  </tbody>\n",
       "</table>\n",
       "</div>"
      ],
      "text/plain": [
       "         Day  Natural Gas Futures Contract 1  Dollars per Million Btu\n",
       "0 2017-12-29                                              2.953      \n",
       "1 2017-12-28                                              2.914      \n",
       "2 2017-12-27                                              2.738      \n",
       "3 2017-12-26                                              2.643      \n",
       "4 2017-12-22                                              2.667      "
      ]
     },
     "execution_count": 5,
     "metadata": {},
     "output_type": "execute_result"
    }
   ],
   "source": [
    "naturalgas.head(5)"
   ]
  },
  {
   "cell_type": "code",
   "execution_count": 6,
   "metadata": {
    "collapsed": true,
    "scrolled": true
   },
   "outputs": [],
   "source": [
    "naturalgas=naturalgas.sort_values(by='Day')"
   ]
  },
  {
   "cell_type": "code",
   "execution_count": 7,
   "metadata": {},
   "outputs": [
    {
     "data": {
      "text/html": [
       "<div>\n",
       "<style>\n",
       "    .dataframe thead tr:only-child th {\n",
       "        text-align: right;\n",
       "    }\n",
       "\n",
       "    .dataframe thead th {\n",
       "        text-align: left;\n",
       "    }\n",
       "\n",
       "    .dataframe tbody tr th {\n",
       "        vertical-align: top;\n",
       "    }\n",
       "</style>\n",
       "<table border=\"1\" class=\"dataframe\">\n",
       "  <thead>\n",
       "    <tr style=\"text-align: right;\">\n",
       "      <th></th>\n",
       "      <th>Day</th>\n",
       "      <th>Natural Gas Futures Contract 1  Dollars per Million Btu</th>\n",
       "    </tr>\n",
       "  </thead>\n",
       "  <tbody>\n",
       "    <tr>\n",
       "      <th>6001</th>\n",
       "      <td>1994-01-13</td>\n",
       "      <td>2.194</td>\n",
       "    </tr>\n",
       "    <tr>\n",
       "      <th>6000</th>\n",
       "      <td>1994-01-14</td>\n",
       "      <td>2.268</td>\n",
       "    </tr>\n",
       "    <tr>\n",
       "      <th>5999</th>\n",
       "      <td>1994-01-17</td>\n",
       "      <td>2.360</td>\n",
       "    </tr>\n",
       "    <tr>\n",
       "      <th>5998</th>\n",
       "      <td>1994-01-18</td>\n",
       "      <td>2.318</td>\n",
       "    </tr>\n",
       "    <tr>\n",
       "      <th>5997</th>\n",
       "      <td>1994-01-19</td>\n",
       "      <td>2.252</td>\n",
       "    </tr>\n",
       "  </tbody>\n",
       "</table>\n",
       "</div>"
      ],
      "text/plain": [
       "            Day  Natural Gas Futures Contract 1  Dollars per Million Btu\n",
       "6001 1994-01-13                                              2.194      \n",
       "6000 1994-01-14                                              2.268      \n",
       "5999 1994-01-17                                              2.360      \n",
       "5998 1994-01-18                                              2.318      \n",
       "5997 1994-01-19                                              2.252      "
      ]
     },
     "execution_count": 7,
     "metadata": {},
     "output_type": "execute_result"
    }
   ],
   "source": [
    "naturalgas.head(5)"
   ]
  },
  {
   "cell_type": "code",
   "execution_count": 8,
   "metadata": {},
   "outputs": [
    {
     "data": {
      "text/plain": [
       "Day                                                        6002\n",
       "Natural Gas Futures Contract 1  Dollars per Million Btu    6002\n",
       "dtype: int64"
      ]
     },
     "execution_count": 8,
     "metadata": {},
     "output_type": "execute_result"
    }
   ],
   "source": [
    "naturalgas.count()"
   ]
  },
  {
   "cell_type": "markdown",
   "metadata": {},
   "source": [
    "#### 1.2 Impute missing value"
   ]
  },
  {
   "cell_type": "code",
   "execution_count": 9,
   "metadata": {
    "collapsed": true
   },
   "outputs": [],
   "source": [
    "Date = pd.bdate_range('1994-01-13', '2017-12-29')"
   ]
  },
  {
   "cell_type": "code",
   "execution_count": 10,
   "metadata": {},
   "outputs": [
    {
     "data": {
      "text/plain": [
       "pandas.core.indexes.datetimes.DatetimeIndex"
      ]
     },
     "execution_count": 10,
     "metadata": {},
     "output_type": "execute_result"
    }
   ],
   "source": [
    "type(Date)"
   ]
  },
  {
   "cell_type": "code",
   "execution_count": 11,
   "metadata": {
    "collapsed": true
   },
   "outputs": [],
   "source": [
    "Date = Date.strftime('%Y-%m-%d')"
   ]
  },
  {
   "cell_type": "code",
   "execution_count": 12,
   "metadata": {
    "collapsed": true
   },
   "outputs": [],
   "source": [
    "Date = pd.DataFrame(Date)"
   ]
  },
  {
   "cell_type": "code",
   "execution_count": 13,
   "metadata": {},
   "outputs": [
    {
     "data": {
      "text/html": [
       "<div>\n",
       "<style>\n",
       "    .dataframe thead tr:only-child th {\n",
       "        text-align: right;\n",
       "    }\n",
       "\n",
       "    .dataframe thead th {\n",
       "        text-align: left;\n",
       "    }\n",
       "\n",
       "    .dataframe tbody tr th {\n",
       "        vertical-align: top;\n",
       "    }\n",
       "</style>\n",
       "<table border=\"1\" class=\"dataframe\">\n",
       "  <thead>\n",
       "    <tr style=\"text-align: right;\">\n",
       "      <th></th>\n",
       "      <th>0</th>\n",
       "    </tr>\n",
       "  </thead>\n",
       "  <tbody>\n",
       "    <tr>\n",
       "      <th>0</th>\n",
       "      <td>1994-01-13</td>\n",
       "    </tr>\n",
       "    <tr>\n",
       "      <th>1</th>\n",
       "      <td>1994-01-14</td>\n",
       "    </tr>\n",
       "    <tr>\n",
       "      <th>2</th>\n",
       "      <td>1994-01-17</td>\n",
       "    </tr>\n",
       "    <tr>\n",
       "      <th>3</th>\n",
       "      <td>1994-01-18</td>\n",
       "    </tr>\n",
       "    <tr>\n",
       "      <th>4</th>\n",
       "      <td>1994-01-19</td>\n",
       "    </tr>\n",
       "  </tbody>\n",
       "</table>\n",
       "</div>"
      ],
      "text/plain": [
       "            0\n",
       "0  1994-01-13\n",
       "1  1994-01-14\n",
       "2  1994-01-17\n",
       "3  1994-01-18\n",
       "4  1994-01-19"
      ]
     },
     "execution_count": 13,
     "metadata": {},
     "output_type": "execute_result"
    }
   ],
   "source": [
    "Date.head(5)"
   ]
  },
  {
   "cell_type": "code",
   "execution_count": 14,
   "metadata": {
    "collapsed": true
   },
   "outputs": [],
   "source": [
    "Date.columns = ['Day']"
   ]
  },
  {
   "cell_type": "code",
   "execution_count": 15,
   "metadata": {},
   "outputs": [
    {
     "data": {
      "text/html": [
       "<div>\n",
       "<style>\n",
       "    .dataframe thead tr:only-child th {\n",
       "        text-align: right;\n",
       "    }\n",
       "\n",
       "    .dataframe thead th {\n",
       "        text-align: left;\n",
       "    }\n",
       "\n",
       "    .dataframe tbody tr th {\n",
       "        vertical-align: top;\n",
       "    }\n",
       "</style>\n",
       "<table border=\"1\" class=\"dataframe\">\n",
       "  <thead>\n",
       "    <tr style=\"text-align: right;\">\n",
       "      <th></th>\n",
       "      <th>Day</th>\n",
       "    </tr>\n",
       "  </thead>\n",
       "  <tbody>\n",
       "    <tr>\n",
       "      <th>0</th>\n",
       "      <td>1994-01-13</td>\n",
       "    </tr>\n",
       "    <tr>\n",
       "      <th>1</th>\n",
       "      <td>1994-01-14</td>\n",
       "    </tr>\n",
       "    <tr>\n",
       "      <th>2</th>\n",
       "      <td>1994-01-17</td>\n",
       "    </tr>\n",
       "    <tr>\n",
       "      <th>3</th>\n",
       "      <td>1994-01-18</td>\n",
       "    </tr>\n",
       "    <tr>\n",
       "      <th>4</th>\n",
       "      <td>1994-01-19</td>\n",
       "    </tr>\n",
       "  </tbody>\n",
       "</table>\n",
       "</div>"
      ],
      "text/plain": [
       "          Day\n",
       "0  1994-01-13\n",
       "1  1994-01-14\n",
       "2  1994-01-17\n",
       "3  1994-01-18\n",
       "4  1994-01-19"
      ]
     },
     "execution_count": 15,
     "metadata": {},
     "output_type": "execute_result"
    }
   ],
   "source": [
    "Date.head(5)"
   ]
  },
  {
   "cell_type": "code",
   "execution_count": 16,
   "metadata": {},
   "outputs": [
    {
     "data": {
      "text/html": [
       "<div>\n",
       "<style>\n",
       "    .dataframe thead tr:only-child th {\n",
       "        text-align: right;\n",
       "    }\n",
       "\n",
       "    .dataframe thead th {\n",
       "        text-align: left;\n",
       "    }\n",
       "\n",
       "    .dataframe tbody tr th {\n",
       "        vertical-align: top;\n",
       "    }\n",
       "</style>\n",
       "<table border=\"1\" class=\"dataframe\">\n",
       "  <thead>\n",
       "    <tr style=\"text-align: right;\">\n",
       "      <th></th>\n",
       "      <th>Day</th>\n",
       "    </tr>\n",
       "  </thead>\n",
       "  <tbody>\n",
       "    <tr>\n",
       "      <th>6247</th>\n",
       "      <td>2017-12-25</td>\n",
       "    </tr>\n",
       "    <tr>\n",
       "      <th>6248</th>\n",
       "      <td>2017-12-26</td>\n",
       "    </tr>\n",
       "    <tr>\n",
       "      <th>6249</th>\n",
       "      <td>2017-12-27</td>\n",
       "    </tr>\n",
       "    <tr>\n",
       "      <th>6250</th>\n",
       "      <td>2017-12-28</td>\n",
       "    </tr>\n",
       "    <tr>\n",
       "      <th>6251</th>\n",
       "      <td>2017-12-29</td>\n",
       "    </tr>\n",
       "  </tbody>\n",
       "</table>\n",
       "</div>"
      ],
      "text/plain": [
       "             Day\n",
       "6247  2017-12-25\n",
       "6248  2017-12-26\n",
       "6249  2017-12-27\n",
       "6250  2017-12-28\n",
       "6251  2017-12-29"
      ]
     },
     "execution_count": 16,
     "metadata": {},
     "output_type": "execute_result"
    }
   ],
   "source": [
    "Date.tail(5)"
   ]
  },
  {
   "cell_type": "code",
   "execution_count": 17,
   "metadata": {
    "collapsed": true
   },
   "outputs": [],
   "source": [
    "Date['Day'] =pd.to_datetime(Date['Day'])"
   ]
  },
  {
   "cell_type": "code",
   "execution_count": 18,
   "metadata": {},
   "outputs": [
    {
     "data": {
      "text/plain": [
       "Day    6252\n",
       "dtype: int64"
      ]
     },
     "execution_count": 18,
     "metadata": {},
     "output_type": "execute_result"
    }
   ],
   "source": [
    "Date.count()"
   ]
  },
  {
   "cell_type": "code",
   "execution_count": 19,
   "metadata": {
    "collapsed": true
   },
   "outputs": [],
   "source": [
    "gas = pd.merge(Date, naturalgas, how='left', on=['Day'])"
   ]
  },
  {
   "cell_type": "code",
   "execution_count": 20,
   "metadata": {},
   "outputs": [
    {
     "data": {
      "text/plain": [
       "Day                                                        6252\n",
       "Natural Gas Futures Contract 1  Dollars per Million Btu    6002\n",
       "dtype: int64"
      ]
     },
     "execution_count": 20,
     "metadata": {},
     "output_type": "execute_result"
    }
   ],
   "source": [
    "gas.count()"
   ]
  },
  {
   "cell_type": "code",
   "execution_count": 21,
   "metadata": {},
   "outputs": [
    {
     "data": {
      "text/html": [
       "<div>\n",
       "<style>\n",
       "    .dataframe thead tr:only-child th {\n",
       "        text-align: right;\n",
       "    }\n",
       "\n",
       "    .dataframe thead th {\n",
       "        text-align: left;\n",
       "    }\n",
       "\n",
       "    .dataframe tbody tr th {\n",
       "        vertical-align: top;\n",
       "    }\n",
       "</style>\n",
       "<table border=\"1\" class=\"dataframe\">\n",
       "  <thead>\n",
       "    <tr style=\"text-align: right;\">\n",
       "      <th></th>\n",
       "      <th>Day</th>\n",
       "      <th>Natural Gas Futures Contract 1  Dollars per Million Btu</th>\n",
       "    </tr>\n",
       "  </thead>\n",
       "  <tbody>\n",
       "    <tr>\n",
       "      <th>0</th>\n",
       "      <td>1994-01-13</td>\n",
       "      <td>2.194</td>\n",
       "    </tr>\n",
       "    <tr>\n",
       "      <th>1</th>\n",
       "      <td>1994-01-14</td>\n",
       "      <td>2.268</td>\n",
       "    </tr>\n",
       "    <tr>\n",
       "      <th>2</th>\n",
       "      <td>1994-01-17</td>\n",
       "      <td>2.360</td>\n",
       "    </tr>\n",
       "    <tr>\n",
       "      <th>3</th>\n",
       "      <td>1994-01-18</td>\n",
       "      <td>2.318</td>\n",
       "    </tr>\n",
       "    <tr>\n",
       "      <th>4</th>\n",
       "      <td>1994-01-19</td>\n",
       "      <td>2.252</td>\n",
       "    </tr>\n",
       "  </tbody>\n",
       "</table>\n",
       "</div>"
      ],
      "text/plain": [
       "         Day  Natural Gas Futures Contract 1  Dollars per Million Btu\n",
       "0 1994-01-13                                              2.194      \n",
       "1 1994-01-14                                              2.268      \n",
       "2 1994-01-17                                              2.360      \n",
       "3 1994-01-18                                              2.318      \n",
       "4 1994-01-19                                              2.252      "
      ]
     },
     "execution_count": 21,
     "metadata": {},
     "output_type": "execute_result"
    }
   ],
   "source": [
    "gas.head()"
   ]
  },
  {
   "cell_type": "code",
   "execution_count": 22,
   "metadata": {
    "collapsed": true
   },
   "outputs": [],
   "source": [
    "gas.columns = ['Day','Price']"
   ]
  },
  {
   "cell_type": "code",
   "execution_count": 23,
   "metadata": {},
   "outputs": [
    {
     "data": {
      "text/plain": [
       "250"
      ]
     },
     "execution_count": 23,
     "metadata": {},
     "output_type": "execute_result"
    }
   ],
   "source": [
    "gas['Price'].isnull().sum()"
   ]
  },
  {
   "cell_type": "code",
   "execution_count": 24,
   "metadata": {
    "collapsed": true,
    "scrolled": true
   },
   "outputs": [],
   "source": [
    "gas = gas.fillna(method='ffill')"
   ]
  },
  {
   "cell_type": "code",
   "execution_count": 25,
   "metadata": {},
   "outputs": [
    {
     "data": {
      "text/plain": [
       "0"
      ]
     },
     "execution_count": 25,
     "metadata": {},
     "output_type": "execute_result"
    }
   ],
   "source": [
    "gas['Price'].isnull().sum()"
   ]
  },
  {
   "cell_type": "code",
   "execution_count": 26,
   "metadata": {
    "collapsed": true
   },
   "outputs": [],
   "source": [
    "gas.to_csv(\"gas4.csv\", index= False)"
   ]
  },
  {
   "cell_type": "markdown",
   "metadata": {
    "collapsed": true
   },
   "source": [
    "#### 1.3 Plotting"
   ]
  },
  {
   "cell_type": "code",
   "execution_count": 27,
   "metadata": {
    "collapsed": true
   },
   "outputs": [],
   "source": [
    "import matplotlib.pyplot as plt"
   ]
  },
  {
   "cell_type": "code",
   "execution_count": 28,
   "metadata": {},
   "outputs": [
    {
     "data": {
      "image/png": "[encoded data removed]",
      "text/plain": [
       "<matplotlib.figure.Figure at 0x10a942438>"
      ]
     },
     "metadata": {},
     "output_type": "display_data"
    }
   ],
   "source": [
    "fig=plt.figure(figsize=(22, 9), dpi= 80, facecolor='w', edgecolor='k')\n",
    "plt.plot_date(x=gas.Day, y=gas.Price)\n",
    "plt.show()"
   ]
  },
  {
   "cell_type": "markdown",
   "metadata": {},
   "source": [
    "### Part 2 Modeling"
   ]
  },
  {
   "cell_type": "markdown",
   "metadata": {},
   "source": [
    "#### 2.1 Split into training and testing data. Testing data starts from 2017-01-02."
   ]
  },
  {
   "cell_type": "code",
   "execution_count": 29,
   "metadata": {
    "collapsed": true
   },
   "outputs": [],
   "source": [
    "df = pd.read_csv('gas4.csv')"
   ]
  },
  {
   "cell_type": "code",
   "execution_count": 30,
   "metadata": {
    "collapsed": true
   },
   "outputs": [],
   "source": [
    "#df.Timestamp = pd.to_datetime(df.Day) \n",
    "#df.index = df.Timestamp"
   ]
  },
  {
   "cell_type": "code",
   "execution_count": 30,
   "metadata": {
    "collapsed": true
   },
   "outputs": [],
   "source": [
    "df.Timestamp = pd.date_range('1994-1-13', periods=6252, freq='B')\n",
    "df.index = df.Timestamp"
   ]
  },
  {
   "cell_type": "code",
   "execution_count": 31,
   "metadata": {},
   "outputs": [
    {
     "data": {
      "text/plain": [
       "DatetimeIndex(['1994-01-13', '1994-01-14', '1994-01-17', '1994-01-18',\n",
       "               '1994-01-19', '1994-01-20', '1994-01-21', '1994-01-24',\n",
       "               '1994-01-25', '1994-01-26',\n",
       "               ...\n",
       "               '2017-12-18', '2017-12-19', '2017-12-20', '2017-12-21',\n",
       "               '2017-12-22', '2017-12-25', '2017-12-26', '2017-12-27',\n",
       "               '2017-12-28', '2017-12-29'],\n",
       "              dtype='datetime64[ns]', length=6252, freq='B')"
      ]
     },
     "execution_count": 31,
     "metadata": {},
     "output_type": "execute_result"
    }
   ],
   "source": [
    "df.index"
   ]
  },
  {
   "cell_type": "code",
   "execution_count": 32,
   "metadata": {
    "collapsed": true
   },
   "outputs": [],
   "source": [
    "train=df[0:5992] \n",
    "test=df[5992:]"
   ]
  },
  {
   "cell_type": "code",
   "execution_count": 33,
   "metadata": {},
   "outputs": [
    {
     "data": {
      "text/html": [
       "<div>\n",
       "<style>\n",
       "    .dataframe thead tr:only-child th {\n",
       "        text-align: right;\n",
       "    }\n",
       "\n",
       "    .dataframe thead th {\n",
       "        text-align: left;\n",
       "    }\n",
       "\n",
       "    .dataframe tbody tr th {\n",
       "        vertical-align: top;\n",
       "    }\n",
       "</style>\n",
       "<table border=\"1\" class=\"dataframe\">\n",
       "  <thead>\n",
       "    <tr style=\"text-align: right;\">\n",
       "      <th></th>\n",
       "      <th>Day</th>\n",
       "      <th>Price</th>\n",
       "    </tr>\n",
       "  </thead>\n",
       "  <tbody>\n",
       "    <tr>\n",
       "      <th>2016-12-26</th>\n",
       "      <td>2016-12-26</td>\n",
       "      <td>3.662</td>\n",
       "    </tr>\n",
       "    <tr>\n",
       "      <th>2016-12-27</th>\n",
       "      <td>2016-12-27</td>\n",
       "      <td>3.761</td>\n",
       "    </tr>\n",
       "    <tr>\n",
       "      <th>2016-12-28</th>\n",
       "      <td>2016-12-28</td>\n",
       "      <td>3.930</td>\n",
       "    </tr>\n",
       "    <tr>\n",
       "      <th>2016-12-29</th>\n",
       "      <td>2016-12-29</td>\n",
       "      <td>3.802</td>\n",
       "    </tr>\n",
       "    <tr>\n",
       "      <th>2016-12-30</th>\n",
       "      <td>2016-12-30</td>\n",
       "      <td>3.724</td>\n",
       "    </tr>\n",
       "  </tbody>\n",
       "</table>\n",
       "</div>"
      ],
      "text/plain": [
       "                   Day  Price\n",
       "2016-12-26  2016-12-26  3.662\n",
       "2016-12-27  2016-12-27  3.761\n",
       "2016-12-28  2016-12-28  3.930\n",
       "2016-12-29  2016-12-29  3.802\n",
       "2016-12-30  2016-12-30  3.724"
      ]
     },
     "execution_count": 33,
     "metadata": {},
     "output_type": "execute_result"
    }
   ],
   "source": [
    "train.tail(5)"
   ]
  },
  {
   "cell_type": "code",
   "execution_count": 34,
   "metadata": {},
   "outputs": [
    {
     "data": {
      "text/html": [
       "<div>\n",
       "<style>\n",
       "    .dataframe thead tr:only-child th {\n",
       "        text-align: right;\n",
       "    }\n",
       "\n",
       "    .dataframe thead th {\n",
       "        text-align: left;\n",
       "    }\n",
       "\n",
       "    .dataframe tbody tr th {\n",
       "        vertical-align: top;\n",
       "    }\n",
       "</style>\n",
       "<table border=\"1\" class=\"dataframe\">\n",
       "  <thead>\n",
       "    <tr style=\"text-align: right;\">\n",
       "      <th></th>\n",
       "      <th>Day</th>\n",
       "      <th>Price</th>\n",
       "    </tr>\n",
       "  </thead>\n",
       "  <tbody>\n",
       "    <tr>\n",
       "      <th>2017-01-02</th>\n",
       "      <td>2017-01-02</td>\n",
       "      <td>3.724</td>\n",
       "    </tr>\n",
       "    <tr>\n",
       "      <th>2017-01-03</th>\n",
       "      <td>2017-01-03</td>\n",
       "      <td>3.327</td>\n",
       "    </tr>\n",
       "    <tr>\n",
       "      <th>2017-01-04</th>\n",
       "      <td>2017-01-04</td>\n",
       "      <td>3.267</td>\n",
       "    </tr>\n",
       "    <tr>\n",
       "      <th>2017-01-05</th>\n",
       "      <td>2017-01-05</td>\n",
       "      <td>3.273</td>\n",
       "    </tr>\n",
       "    <tr>\n",
       "      <th>2017-01-06</th>\n",
       "      <td>2017-01-06</td>\n",
       "      <td>3.285</td>\n",
       "    </tr>\n",
       "  </tbody>\n",
       "</table>\n",
       "</div>"
      ],
      "text/plain": [
       "                   Day  Price\n",
       "2017-01-02  2017-01-02  3.724\n",
       "2017-01-03  2017-01-03  3.327\n",
       "2017-01-04  2017-01-04  3.267\n",
       "2017-01-05  2017-01-05  3.273\n",
       "2017-01-06  2017-01-06  3.285"
      ]
     },
     "execution_count": 34,
     "metadata": {},
     "output_type": "execute_result"
    }
   ],
   "source": [
    "test.head(5)"
   ]
  },
  {
   "cell_type": "code",
   "execution_count": 35,
   "metadata": {
    "scrolled": false
   },
   "outputs": [
    {
     "data": {
      "image/png": "[encoded data removed]",
      "text/plain": [
       "<matplotlib.figure.Figure at 0x10fe6c0f0>"
      ]
     },
     "metadata": {},
     "output_type": "display_data"
    }
   ],
   "source": [
    "train.Price.plot(figsize=(22,9), title= 'Natural Gas Future Price', fontsize=14)\n",
    "test.Price.plot(figsize=(22,9), title= 'Natural Gas Future Price', fontsize=14)\n",
    "plt.show()"
   ]
  },
  {
   "cell_type": "markdown",
   "metadata": {},
   "source": [
    "#### 2.2 Time series analysis"
   ]
  },
  {
   "cell_type": "code",
   "execution_count": 36,
   "metadata": {
    "collapsed": true
   },
   "outputs": [],
   "source": [
    "import os\n",
    "import sys\n",
    "\n",
    "import numpy as np\n",
    "\n",
    "import statsmodels.formula.api as smf\n",
    "import statsmodels.tsa.api as smt\n",
    "import statsmodels.api as sm\n",
    "import scipy.stats as scs\n",
    "from arch import arch_model"
   ]
  },
  {
   "cell_type": "code",
   "execution_count": 37,
   "metadata": {
    "collapsed": true
   },
   "outputs": [],
   "source": [
    "import matplotlib.pyplot as plt\n",
    "import matplotlib as mpl\n",
    "%matplotlib inline\n",
    "p = print"
   ]
  },
  {
   "cell_type": "code",
   "execution_count": 38,
   "metadata": {
    "collapsed": true
   },
   "outputs": [],
   "source": [
    "def tsplot(y, lags=None, figsize=(10, 8), style='bmh'):\n",
    "    if not isinstance(y, pd.Series):\n",
    "        y = pd.Series(y)\n",
    "    with plt.style.context(style):    \n",
    "        fig = plt.figure(figsize=figsize)\n",
    "        layout = (3, 2)\n",
    "        ts_ax = plt.subplot2grid(layout, (0, 0), colspan=2)\n",
    "        acf_ax = plt.subplot2grid(layout, (1, 0))\n",
    "        pacf_ax = plt.subplot2grid(layout, (1, 1))\n",
    "        qq_ax = plt.subplot2grid(layout, (2, 0))\n",
    "        pp_ax = plt.subplot2grid(layout, (2, 1))\n",
    "        \n",
    "        y.plot(ax=ts_ax)\n",
    "        ts_ax.set_title('Time Series Analysis Plots')\n",
    "        smt.graphics.plot_acf(y, lags=lags, ax=acf_ax, alpha=0.5)\n",
    "        smt.graphics.plot_pacf(y, lags=lags, ax=pacf_ax, alpha=0.5)\n",
    "        sm.qqplot(y, line='s', ax=qq_ax)\n",
    "        qq_ax.set_title('QQ Plot')        \n",
    "        scs.probplot(y, sparams=(y.mean(), y.std()), plot=pp_ax)\n",
    "\n",
    "        plt.tight_layout()\n",
    "    return "
   ]
  },
  {
   "cell_type": "code",
   "execution_count": 39,
   "metadata": {},
   "outputs": [
    {
     "data": {
      "image/png": "[encoded data removed]",
      "text/plain": [
       "<matplotlib.figure.Figure at 0x1c155ad0f0>"
      ]
     },
     "metadata": {},
     "output_type": "display_data"
    }
   ],
   "source": [
    "tsplot(train.Price, lags=36)"
   ]
  },
  {
   "cell_type": "markdown",
   "metadata": {},
   "source": [
    "#### 2.3 ARIMA"
   ]
  },
  {
   "cell_type": "code",
   "execution_count": 40,
   "metadata": {
    "collapsed": true
   },
   "outputs": [],
   "source": [
    "from statsmodels.tsa.arima_model import ARIMA"
   ]
  },
  {
   "cell_type": "code",
   "execution_count": 41,
   "metadata": {
    "scrolled": true
   },
   "outputs": [
    {
     "name": "stdout",
     "output_type": "stream",
     "text": [
      "                             ARIMA Model Results                              \n",
      "==============================================================================\n",
      "Dep. Variable:                D.Price   No. Observations:                 6251\n",
      "Model:                 ARIMA(1, 1, 1)   Log Likelihood                2142.492\n",
      "Method:                       css-mle   S.D. of innovations              0.172\n",
      "Date:                Wed, 11 Apr 2018   AIC                          -4276.983\n",
      "Time:                        19:58:51   BIC                          -4250.021\n",
      "Sample:                    01-14-1994   HQIC                         -4267.639\n",
      "                         - 12-29-2017                                         \n",
      "=================================================================================\n",
      "                    coef    std err          z      P>|z|      [0.025      0.975]\n",
      "---------------------------------------------------------------------------------\n",
      "const             0.0001      0.002      0.058      0.954      -0.004       0.004\n",
      "ar.L1.D.Price     0.6081      0.180      3.372      0.001       0.255       0.961\n",
      "ma.L1.D.Price    -0.6299      0.176     -3.573      0.000      -0.975      -0.284\n",
      "                                    Roots                                    \n",
      "=============================================================================\n",
      "                 Real           Imaginary           Modulus         Frequency\n",
      "-----------------------------------------------------------------------------\n",
      "AR.1            1.6445           +0.0000j            1.6445            0.0000\n",
      "MA.1            1.5877           +0.0000j            1.5877            0.0000\n",
      "-----------------------------------------------------------------------------\n"
     ]
    }
   ],
   "source": [
    "model1 = ARIMA(df.Price, order=(1, 1, 1))\n",
    "fit1 = model1.fit()\n",
    "print(fit1.summary())"
   ]
  },
  {
   "cell_type": "code",
   "execution_count": 42,
   "metadata": {
    "scrolled": true
   },
   "outputs": [
    {
     "name": "stdout",
     "output_type": "stream",
     "text": [
      "                             ARIMA Model Results                              \n",
      "==============================================================================\n",
      "Dep. Variable:                D.Price   No. Observations:                 6251\n",
      "Model:                 ARIMA(1, 1, 1)   Log Likelihood                2142.490\n",
      "Method:                       css-mle   S.D. of innovations              0.172\n",
      "Date:                Wed, 11 Apr 2018   AIC                          -4278.980\n",
      "Time:                        19:58:54   BIC                          -4258.758\n",
      "Sample:                    01-14-1994   HQIC                         -4271.972\n",
      "                         - 12-29-2017                                         \n",
      "=================================================================================\n",
      "                    coef    std err          z      P>|z|      [0.025      0.975]\n",
      "---------------------------------------------------------------------------------\n",
      "ar.L1.D.Price     0.6081      0.180      3.372      0.001       0.255       0.962\n",
      "ma.L1.D.Price    -0.6299      0.176     -3.573      0.000      -0.975      -0.284\n",
      "                                    Roots                                    \n",
      "=============================================================================\n",
      "                 Real           Imaginary           Modulus         Frequency\n",
      "-----------------------------------------------------------------------------\n",
      "AR.1            1.6445           +0.0000j            1.6445            0.0000\n",
      "MA.1            1.5877           +0.0000j            1.5877            0.0000\n",
      "-----------------------------------------------------------------------------\n"
     ]
    }
   ],
   "source": [
    "model2 = ARIMA(df.Price, order=(1,1,1))\n",
    "fit2 = model2.fit(trend='nc')\n",
    "print(fit2.summary())"
   ]
  },
  {
   "cell_type": "code",
   "execution_count": 45,
   "metadata": {
    "scrolled": false
   },
   "outputs": [
    {
     "data": {
      "image/png": "[encoded data removed]",
      "text/plain": [
       "<matplotlib.figure.Figure at 0x1c157ce208>"
      ]
     },
     "metadata": {},
     "output_type": "display_data"
    }
   ],
   "source": [
    "y_hat_avg = test.copy()\n",
    "y_hat_avg['ARIMA'] = fit2.predict(test.index[0],test.index[-1],typ='levels')\n",
    "plt.figure(figsize=(22,9))\n",
    "plt.plot(train['Price'], label='Train')\n",
    "plt.plot(test['Price'], label='Test')\n",
    "plt.plot(y_hat_avg['ARIMA'], label='ARIMA')\n",
    "plt.legend(loc='best')\n",
    "plt.show()"
   ]
  },
  {
   "cell_type": "code",
   "execution_count": 46,
   "metadata": {
    "collapsed": true
   },
   "outputs": [],
   "source": [
    "from sklearn.metrics import mean_squared_error\n",
    "from math import sqrt"
   ]
  },
  {
   "cell_type": "code",
   "execution_count": 47,
   "metadata": {},
   "outputs": [
    {
     "name": "stdout",
     "output_type": "stream",
     "text": [
      "0.0728251784632228\n"
     ]
    }
   ],
   "source": [
    "rms = sqrt(mean_squared_error(test.Price, y_hat_avg.ARIMA))\n",
    "print(rms)"
   ]
  },
  {
   "cell_type": "code",
   "execution_count": 48,
   "metadata": {},
   "outputs": [
    {
     "data": {
      "image/png": "[encoded data removed]",
      "text/plain": [
       "<matplotlib.figure.Figure at 0x1c157ec048>"
      ]
     },
     "metadata": {},
     "output_type": "display_data"
    }
   ],
   "source": [
    "tsplot(fit2.resid, lags=30)"
   ]
  },
  {
   "cell_type": "code",
   "execution_count": 49,
   "metadata": {
    "collapsed": true
   },
   "outputs": [],
   "source": [
    "from matplotlib import pyplot"
   ]
  },
  {
   "cell_type": "code",
   "execution_count": 50,
   "metadata": {},
   "outputs": [
    {
     "data": {
      "image/png": "[encoded data removed]",
      "text/plain": [
       "<matplotlib.figure.Figure at 0x1c15debc50>"
      ]
     },
     "metadata": {},
     "output_type": "display_data"
    },
    {
     "name": "stdout",
     "output_type": "stream",
     "text": [
      "                 0\n",
      "count  6251.000000\n",
      "mean      0.000127\n",
      "std       0.171769\n",
      "min      -1.626668\n",
      "25%      -0.063912\n",
      "50%      -0.000656\n",
      "75%       0.060292\n",
      "max       2.543392\n"
     ]
    }
   ],
   "source": [
    "residuals = pd.DataFrame(fit2.resid)\n",
    "residuals.plot(kind='kde')\n",
    "pyplot.show()\n",
    "print(residuals.describe())"
   ]
  },
  {
   "cell_type": "markdown",
   "metadata": {},
   "source": [
    "#### 2.4 Simple Exponential Smoothing"
   ]
  },
  {
   "cell_type": "code",
   "execution_count": 51,
   "metadata": {
    "collapsed": true
   },
   "outputs": [],
   "source": [
    "from statsmodels.tsa.api import ExponentialSmoothing, SimpleExpSmoothing, Holt"
   ]
  },
  {
   "cell_type": "code",
   "execution_count": 52,
   "metadata": {},
   "outputs": [
    {
     "data": {
      "text/plain": [
       "0.9776533839746111"
      ]
     },
     "execution_count": 52,
     "metadata": {},
     "output_type": "execute_result"
    }
   ],
   "source": [
    "model3 = SimpleExpSmoothing(np.asarray(df['Price']))\n",
    "fit3 = model3.fit()\n",
    "fit3.model.params['smoothing_level']"
   ]
  },
  {
   "cell_type": "code",
   "execution_count": 53,
   "metadata": {},
   "outputs": [
    {
     "data": {
      "image/png": "[encoded data removed]",
      "text/plain": [
       "<matplotlib.figure.Figure at 0x1c15795390>"
      ]
     },
     "metadata": {},
     "output_type": "display_data"
    }
   ],
   "source": [
    "y_hat_avg3 = test.copy()\n",
    "y_hat_avg3['SES'] = fit3.fittedvalues[5992:]\n",
    "plt.figure(figsize=(16,8))\n",
    "plt.plot(train['Price'], label='Train')\n",
    "plt.plot(test['Price'], label='Test')\n",
    "plt.plot(y_hat_avg3['SES'], label='SES')\n",
    "plt.legend(loc='best')\n",
    "plt.show()"
   ]
  },
  {
   "cell_type": "code",
   "execution_count": 54,
   "metadata": {},
   "outputs": [
    {
     "name": "stdout",
     "output_type": "stream",
     "text": [
      "0.0728712652480168\n"
     ]
    }
   ],
   "source": [
    "rms = sqrt(mean_squared_error(test.Price, y_hat_avg3.SES))\n",
    "print(rms)"
   ]
  },
  {
   "cell_type": "code",
   "execution_count": 55,
   "metadata": {},
   "outputs": [
    {
     "data": {
      "image/png": "[encoded data removed]",
      "text/plain": [
       "<matplotlib.figure.Figure at 0x1c15681518>"
      ]
     },
     "metadata": {},
     "output_type": "display_data"
    }
   ],
   "source": [
    "tsplot(fit3.resid, lags=30)"
   ]
  },
  {
   "cell_type": "markdown",
   "metadata": {
    "collapsed": true
   },
   "source": [
    "#### 2.5 Holt's linear Smoothing"
   ]
  },
  {
   "cell_type": "code",
   "execution_count": 56,
   "metadata": {},
   "outputs": [
    {
     "data": {
      "image/png": "[encoded data removed]",
      "text/plain": [
       "<matplotlib.figure.Figure at 0x1c15617c50>"
      ]
     },
     "metadata": {},
     "output_type": "display_data"
    }
   ],
   "source": [
    "import statsmodels.api as sm\n",
    "sm.tsa.seasonal_decompose(df.Price).plot()\n",
    "result = sm.tsa.stattools.adfuller(df.Price)\n",
    "plt.show()"
   ]
  },
  {
   "cell_type": "code",
   "execution_count": 57,
   "metadata": {},
   "outputs": [
    {
     "name": "stdout",
     "output_type": "stream",
     "text": [
      "1.0\n",
      "0.0\n"
     ]
    }
   ],
   "source": [
    "model4 = Holt(np.asarray(df['Price']))\n",
    "fit4 = model4.fit()\n",
    "print(fit4.model.params['smoothing_level'])\n",
    "print(fit4.model.params['smoothing_slope'])"
   ]
  },
  {
   "cell_type": "code",
   "execution_count": 58,
   "metadata": {},
   "outputs": [
    {
     "data": {
      "image/png": "[encoded data removed]",
      "text/plain": [
       "<matplotlib.figure.Figure at 0x1c155d4470>"
      ]
     },
     "metadata": {},
     "output_type": "display_data"
    }
   ],
   "source": [
    "y_hat_avg4 = test.copy()\n",
    "y_hat_avg4['Holt'] = fit4.fittedvalues[5992:]\n",
    "plt.figure(figsize=(16,8))\n",
    "plt.plot(train['Price'], label='Train')\n",
    "plt.plot(test['Price'], label='Test')\n",
    "plt.plot(y_hat_avg4['Holt'], label='Holt')\n",
    "plt.legend(loc='best')\n",
    "plt.show()"
   ]
  },
  {
   "cell_type": "code",
   "execution_count": 59,
   "metadata": {},
   "outputs": [
    {
     "name": "stdout",
     "output_type": "stream",
     "text": [
      "0.07293266124942295\n"
     ]
    }
   ],
   "source": [
    "rms = sqrt(mean_squared_error(test.Price, y_hat_avg4.Holt))\n",
    "print(rms)"
   ]
  },
  {
   "cell_type": "code",
   "execution_count": 60,
   "metadata": {},
   "outputs": [
    {
     "data": {
      "image/png": "[encoded data removed]",
      "text/plain": [
       "<matplotlib.figure.Figure at 0x1c1571a860>"
      ]
     },
     "metadata": {},
     "output_type": "display_data"
    }
   ],
   "source": [
    "tsplot(fit4.resid, lags=30)"
   ]
  },
  {
   "cell_type": "markdown",
   "metadata": {},
   "source": [
    "#### 2.6 Backtesting"
   ]
  },
  {
   "cell_type": "markdown",
   "metadata": {},
   "source": [
    "For ARIMA Model"
   ]
  },
  {
   "cell_type": "code",
   "execution_count": 61,
   "metadata": {
    "collapsed": true
   },
   "outputs": [],
   "source": [
    "result = test.copy()\n",
    "result['ARIMA']=np.nan\n",
    "j = 0"
   ]
  },
  {
   "cell_type": "code",
   "execution_count": 62,
   "metadata": {},
   "outputs": [
    {
     "data": {
      "text/html": [
       "<div>\n",
       "<style>\n",
       "    .dataframe thead tr:only-child th {\n",
       "        text-align: right;\n",
       "    }\n",
       "\n",
       "    .dataframe thead th {\n",
       "        text-align: left;\n",
       "    }\n",
       "\n",
       "    .dataframe tbody tr th {\n",
       "        vertical-align: top;\n",
       "    }\n",
       "</style>\n",
       "<table border=\"1\" class=\"dataframe\">\n",
       "  <thead>\n",
       "    <tr style=\"text-align: right;\">\n",
       "      <th></th>\n",
       "      <th>Day</th>\n",
       "      <th>Price</th>\n",
       "      <th>ARIMA</th>\n",
       "    </tr>\n",
       "  </thead>\n",
       "  <tbody>\n",
       "    <tr>\n",
       "      <th>2017-01-02</th>\n",
       "      <td>2017-01-02</td>\n",
       "      <td>3.724</td>\n",
       "      <td>3.725091</td>\n",
       "    </tr>\n",
       "    <tr>\n",
       "      <th>2017-01-03</th>\n",
       "      <td>2017-01-03</td>\n",
       "      <td>3.327</td>\n",
       "      <td>3.724682</td>\n",
       "    </tr>\n",
       "    <tr>\n",
       "      <th>2017-01-04</th>\n",
       "      <td>2017-01-04</td>\n",
       "      <td>3.267</td>\n",
       "      <td>3.335980</td>\n",
       "    </tr>\n",
       "    <tr>\n",
       "      <th>2017-01-05</th>\n",
       "      <td>2017-01-05</td>\n",
       "      <td>3.273</td>\n",
       "      <td>3.273891</td>\n",
       "    </tr>\n",
       "    <tr>\n",
       "      <th>2017-01-06</th>\n",
       "      <td>2017-01-06</td>\n",
       "      <td>3.285</td>\n",
       "      <td>3.277196</td>\n",
       "    </tr>\n",
       "  </tbody>\n",
       "</table>\n",
       "</div>"
      ],
      "text/plain": [
       "                   Day  Price     ARIMA\n",
       "2017-01-02  2017-01-02  3.724  3.725091\n",
       "2017-01-03  2017-01-03  3.327  3.724682\n",
       "2017-01-04  2017-01-04  3.267  3.335980\n",
       "2017-01-05  2017-01-05  3.273  3.273891\n",
       "2017-01-06  2017-01-06  3.285  3.277196"
      ]
     },
     "execution_count": 62,
     "metadata": {},
     "output_type": "execute_result"
    }
   ],
   "source": [
    "for i in range (5992,6252):\n",
    "    forecast = ARIMA(df.Price[0:i], order=(1,1,1)).fit(trend='nc').forecast()[0]\n",
    "    result.iloc[j,2]=forecast\n",
    "    j = j+1\n",
    "\n",
    "result.head()"
   ]
  },
  {
   "cell_type": "code",
   "execution_count": 63,
   "metadata": {},
   "outputs": [
    {
     "name": "stdout",
     "output_type": "stream",
     "text": [
      "0.07282762159490226\n"
     ]
    }
   ],
   "source": [
    "rms = sqrt(mean_squared_error(result.Price, result.ARIMA))\n",
    "print(rms)"
   ]
  },
  {
   "cell_type": "code",
   "execution_count": 64,
   "metadata": {},
   "outputs": [
    {
     "data": {
      "text/plain": [
       "0.92241586830767808"
      ]
     },
     "execution_count": 64,
     "metadata": {},
     "output_type": "execute_result"
    }
   ],
   "source": [
    "result['Price'].corr(result['ARIMA'])"
   ]
  },
  {
   "cell_type": "markdown",
   "metadata": {},
   "source": [
    "For Simple Exponential Smoothing"
   ]
  },
  {
   "cell_type": "code",
   "execution_count": 65,
   "metadata": {
    "collapsed": true
   },
   "outputs": [],
   "source": [
    "result['SES']=np.nan\n",
    "j = 0"
   ]
  },
  {
   "cell_type": "code",
   "execution_count": 66,
   "metadata": {},
   "outputs": [
    {
     "data": {
      "text/html": [
       "<div>\n",
       "<style>\n",
       "    .dataframe thead tr:only-child th {\n",
       "        text-align: right;\n",
       "    }\n",
       "\n",
       "    .dataframe thead th {\n",
       "        text-align: left;\n",
       "    }\n",
       "\n",
       "    .dataframe tbody tr th {\n",
       "        vertical-align: top;\n",
       "    }\n",
       "</style>\n",
       "<table border=\"1\" class=\"dataframe\">\n",
       "  <thead>\n",
       "    <tr style=\"text-align: right;\">\n",
       "      <th></th>\n",
       "      <th>Day</th>\n",
       "      <th>Price</th>\n",
       "      <th>ARIMA</th>\n",
       "      <th>SES</th>\n",
       "    </tr>\n",
       "  </thead>\n",
       "  <tbody>\n",
       "    <tr>\n",
       "      <th>2017-01-02</th>\n",
       "      <td>2017-01-02</td>\n",
       "      <td>3.724</td>\n",
       "      <td>3.725091</td>\n",
       "      <td>NaN</td>\n",
       "    </tr>\n",
       "    <tr>\n",
       "      <th>2017-01-03</th>\n",
       "      <td>2017-01-03</td>\n",
       "      <td>3.327</td>\n",
       "      <td>3.724682</td>\n",
       "      <td>NaN</td>\n",
       "    </tr>\n",
       "    <tr>\n",
       "      <th>2017-01-04</th>\n",
       "      <td>2017-01-04</td>\n",
       "      <td>3.267</td>\n",
       "      <td>3.335980</td>\n",
       "      <td>NaN</td>\n",
       "    </tr>\n",
       "    <tr>\n",
       "      <th>2017-01-05</th>\n",
       "      <td>2017-01-05</td>\n",
       "      <td>3.273</td>\n",
       "      <td>3.273891</td>\n",
       "      <td>NaN</td>\n",
       "    </tr>\n",
       "    <tr>\n",
       "      <th>2017-01-06</th>\n",
       "      <td>2017-01-06</td>\n",
       "      <td>3.285</td>\n",
       "      <td>3.277196</td>\n",
       "      <td>NaN</td>\n",
       "    </tr>\n",
       "  </tbody>\n",
       "</table>\n",
       "</div>"
      ],
      "text/plain": [
       "                   Day  Price     ARIMA  SES\n",
       "2017-01-02  2017-01-02  3.724  3.725091  NaN\n",
       "2017-01-03  2017-01-03  3.327  3.724682  NaN\n",
       "2017-01-04  2017-01-04  3.267  3.335980  NaN\n",
       "2017-01-05  2017-01-05  3.273  3.273891  NaN\n",
       "2017-01-06  2017-01-06  3.285  3.277196  NaN"
      ]
     },
     "execution_count": 66,
     "metadata": {},
     "output_type": "execute_result"
    }
   ],
   "source": [
    "result.head()"
   ]
  },
  {
   "cell_type": "code",
   "execution_count": 67,
   "metadata": {},
   "outputs": [
    {
     "data": {
      "text/html": [
       "<div>\n",
       "<style>\n",
       "    .dataframe thead tr:only-child th {\n",
       "        text-align: right;\n",
       "    }\n",
       "\n",
       "    .dataframe thead th {\n",
       "        text-align: left;\n",
       "    }\n",
       "\n",
       "    .dataframe tbody tr th {\n",
       "        vertical-align: top;\n",
       "    }\n",
       "</style>\n",
       "<table border=\"1\" class=\"dataframe\">\n",
       "  <thead>\n",
       "    <tr style=\"text-align: right;\">\n",
       "      <th></th>\n",
       "      <th>Day</th>\n",
       "      <th>Price</th>\n",
       "      <th>ARIMA</th>\n",
       "      <th>SES</th>\n",
       "    </tr>\n",
       "  </thead>\n",
       "  <tbody>\n",
       "    <tr>\n",
       "      <th>2017-01-02</th>\n",
       "      <td>2017-01-02</td>\n",
       "      <td>3.724</td>\n",
       "      <td>3.725091</td>\n",
       "      <td>3.725788</td>\n",
       "    </tr>\n",
       "    <tr>\n",
       "      <th>2017-01-03</th>\n",
       "      <td>2017-01-03</td>\n",
       "      <td>3.327</td>\n",
       "      <td>3.724682</td>\n",
       "      <td>3.724040</td>\n",
       "    </tr>\n",
       "    <tr>\n",
       "      <th>2017-01-04</th>\n",
       "      <td>2017-01-04</td>\n",
       "      <td>3.267</td>\n",
       "      <td>3.335980</td>\n",
       "      <td>3.335790</td>\n",
       "    </tr>\n",
       "    <tr>\n",
       "      <th>2017-01-05</th>\n",
       "      <td>2017-01-05</td>\n",
       "      <td>3.273</td>\n",
       "      <td>3.273891</td>\n",
       "      <td>3.268511</td>\n",
       "    </tr>\n",
       "    <tr>\n",
       "      <th>2017-01-06</th>\n",
       "      <td>2017-01-06</td>\n",
       "      <td>3.285</td>\n",
       "      <td>3.277196</td>\n",
       "      <td>3.272901</td>\n",
       "    </tr>\n",
       "  </tbody>\n",
       "</table>\n",
       "</div>"
      ],
      "text/plain": [
       "                   Day  Price     ARIMA       SES\n",
       "2017-01-02  2017-01-02  3.724  3.725091  3.725788\n",
       "2017-01-03  2017-01-03  3.327  3.724682  3.724040\n",
       "2017-01-04  2017-01-04  3.267  3.335980  3.335790\n",
       "2017-01-05  2017-01-05  3.273  3.273891  3.268511\n",
       "2017-01-06  2017-01-06  3.285  3.277196  3.272901"
      ]
     },
     "execution_count": 67,
     "metadata": {},
     "output_type": "execute_result"
    }
   ],
   "source": [
    "for i in range (5992,6252):\n",
    "    forecast = SimpleExpSmoothing(np.asarray(df.Price[0:i])).fit().forecast(1)\n",
    "    result.iloc[j,3]=forecast\n",
    "    j = j+1\n",
    "    \n",
    "result.head()"
   ]
  },
  {
   "cell_type": "code",
   "execution_count": 68,
   "metadata": {},
   "outputs": [
    {
     "name": "stdout",
     "output_type": "stream",
     "text": [
      "0.07287240049604032\n"
     ]
    }
   ],
   "source": [
    "rms = sqrt(mean_squared_error(result.Price, result.SES))\n",
    "print(rms)"
   ]
  },
  {
   "cell_type": "code",
   "execution_count": 69,
   "metadata": {},
   "outputs": [
    {
     "data": {
      "text/plain": [
       "0.92244000436881168"
      ]
     },
     "execution_count": 69,
     "metadata": {},
     "output_type": "execute_result"
    }
   ],
   "source": [
    "result['Price'].corr(result['SES'])"
   ]
  },
  {
   "cell_type": "markdown",
   "metadata": {},
   "source": [
    "For Holt Linear Smoothing"
   ]
  },
  {
   "cell_type": "code",
   "execution_count": 81,
   "metadata": {
    "collapsed": true
   },
   "outputs": [],
   "source": [
    "result['Holt']=np.nan\n",
    "j = 0"
   ]
  },
  {
   "cell_type": "code",
   "execution_count": 82,
   "metadata": {},
   "outputs": [
    {
     "data": {
      "text/html": [
       "<div>\n",
       "<style>\n",
       "    .dataframe thead tr:only-child th {\n",
       "        text-align: right;\n",
       "    }\n",
       "\n",
       "    .dataframe thead th {\n",
       "        text-align: left;\n",
       "    }\n",
       "\n",
       "    .dataframe tbody tr th {\n",
       "        vertical-align: top;\n",
       "    }\n",
       "</style>\n",
       "<table border=\"1\" class=\"dataframe\">\n",
       "  <thead>\n",
       "    <tr style=\"text-align: right;\">\n",
       "      <th></th>\n",
       "      <th>Day</th>\n",
       "      <th>Price</th>\n",
       "      <th>ARIMA</th>\n",
       "      <th>SES</th>\n",
       "      <th>Holt</th>\n",
       "    </tr>\n",
       "  </thead>\n",
       "  <tbody>\n",
       "    <tr>\n",
       "      <th>2017-01-02</th>\n",
       "      <td>2017-01-02</td>\n",
       "      <td>3.724</td>\n",
       "      <td>3.725091</td>\n",
       "      <td>3.725788</td>\n",
       "      <td>NaN</td>\n",
       "    </tr>\n",
       "    <tr>\n",
       "      <th>2017-01-03</th>\n",
       "      <td>2017-01-03</td>\n",
       "      <td>3.327</td>\n",
       "      <td>3.724682</td>\n",
       "      <td>3.724040</td>\n",
       "      <td>NaN</td>\n",
       "    </tr>\n",
       "    <tr>\n",
       "      <th>2017-01-04</th>\n",
       "      <td>2017-01-04</td>\n",
       "      <td>3.267</td>\n",
       "      <td>3.335980</td>\n",
       "      <td>3.335790</td>\n",
       "      <td>NaN</td>\n",
       "    </tr>\n",
       "    <tr>\n",
       "      <th>2017-01-05</th>\n",
       "      <td>2017-01-05</td>\n",
       "      <td>3.273</td>\n",
       "      <td>3.273891</td>\n",
       "      <td>3.268511</td>\n",
       "      <td>NaN</td>\n",
       "    </tr>\n",
       "    <tr>\n",
       "      <th>2017-01-06</th>\n",
       "      <td>2017-01-06</td>\n",
       "      <td>3.285</td>\n",
       "      <td>3.277196</td>\n",
       "      <td>3.272901</td>\n",
       "      <td>NaN</td>\n",
       "    </tr>\n",
       "  </tbody>\n",
       "</table>\n",
       "</div>"
      ],
      "text/plain": [
       "                   Day  Price     ARIMA       SES  Holt\n",
       "2017-01-02  2017-01-02  3.724  3.725091  3.725788   NaN\n",
       "2017-01-03  2017-01-03  3.327  3.724682  3.724040   NaN\n",
       "2017-01-04  2017-01-04  3.267  3.335980  3.335790   NaN\n",
       "2017-01-05  2017-01-05  3.273  3.273891  3.268511   NaN\n",
       "2017-01-06  2017-01-06  3.285  3.277196  3.272901   NaN"
      ]
     },
     "execution_count": 82,
     "metadata": {},
     "output_type": "execute_result"
    }
   ],
   "source": [
    "result.head()"
   ]
  },
  {
   "cell_type": "code",
   "execution_count": 83,
   "metadata": {},
   "outputs": [
    {
     "data": {
      "text/html": [
       "<div>\n",
       "<style>\n",
       "    .dataframe thead tr:only-child th {\n",
       "        text-align: right;\n",
       "    }\n",
       "\n",
       "    .dataframe thead th {\n",
       "        text-align: left;\n",
       "    }\n",
       "\n",
       "    .dataframe tbody tr th {\n",
       "        vertical-align: top;\n",
       "    }\n",
       "</style>\n",
       "<table border=\"1\" class=\"dataframe\">\n",
       "  <thead>\n",
       "    <tr style=\"text-align: right;\">\n",
       "      <th></th>\n",
       "      <th>Day</th>\n",
       "      <th>Price</th>\n",
       "      <th>ARIMA</th>\n",
       "      <th>SES</th>\n",
       "      <th>Holt</th>\n",
       "    </tr>\n",
       "  </thead>\n",
       "  <tbody>\n",
       "    <tr>\n",
       "      <th>2017-01-02</th>\n",
       "      <td>2017-01-02</td>\n",
       "      <td>3.724</td>\n",
       "      <td>3.725091</td>\n",
       "      <td>3.725788</td>\n",
       "      <td>3.724</td>\n",
       "    </tr>\n",
       "    <tr>\n",
       "      <th>2017-01-03</th>\n",
       "      <td>2017-01-03</td>\n",
       "      <td>3.327</td>\n",
       "      <td>3.724682</td>\n",
       "      <td>3.724040</td>\n",
       "      <td>3.724</td>\n",
       "    </tr>\n",
       "    <tr>\n",
       "      <th>2017-01-04</th>\n",
       "      <td>2017-01-04</td>\n",
       "      <td>3.267</td>\n",
       "      <td>3.335980</td>\n",
       "      <td>3.335790</td>\n",
       "      <td>3.327</td>\n",
       "    </tr>\n",
       "    <tr>\n",
       "      <th>2017-01-05</th>\n",
       "      <td>2017-01-05</td>\n",
       "      <td>3.273</td>\n",
       "      <td>3.273891</td>\n",
       "      <td>3.268511</td>\n",
       "      <td>3.267</td>\n",
       "    </tr>\n",
       "    <tr>\n",
       "      <th>2017-01-06</th>\n",
       "      <td>2017-01-06</td>\n",
       "      <td>3.285</td>\n",
       "      <td>3.277196</td>\n",
       "      <td>3.272901</td>\n",
       "      <td>3.273</td>\n",
       "    </tr>\n",
       "  </tbody>\n",
       "</table>\n",
       "</div>"
      ],
      "text/plain": [
       "                   Day  Price     ARIMA       SES   Holt\n",
       "2017-01-02  2017-01-02  3.724  3.725091  3.725788  3.724\n",
       "2017-01-03  2017-01-03  3.327  3.724682  3.724040  3.724\n",
       "2017-01-04  2017-01-04  3.267  3.335980  3.335790  3.327\n",
       "2017-01-05  2017-01-05  3.273  3.273891  3.268511  3.267\n",
       "2017-01-06  2017-01-06  3.285  3.277196  3.272901  3.273"
      ]
     },
     "execution_count": 83,
     "metadata": {},
     "output_type": "execute_result"
    }
   ],
   "source": [
    "for i in range (5992,6252):\n",
    "    forecast = Holt(np.asarray(df.Price[0:i])).fit().forecast(1)\n",
    "    result.iloc[j,4]=forecast\n",
    "    j = j+1\n",
    "    \n",
    "result.head()"
   ]
  },
  {
   "cell_type": "code",
   "execution_count": 84,
   "metadata": {},
   "outputs": [
    {
     "name": "stdout",
     "output_type": "stream",
     "text": [
      "0.07293266124942292\n"
     ]
    }
   ],
   "source": [
    "rms = sqrt(mean_squared_error(result.Price, result.Holt))\n",
    "print(rms)"
   ]
  },
  {
   "cell_type": "code",
   "execution_count": 85,
   "metadata": {},
   "outputs": [
    {
     "data": {
      "text/plain": [
       "0.92240388872124535"
      ]
     },
     "execution_count": 85,
     "metadata": {},
     "output_type": "execute_result"
    }
   ],
   "source": [
    "result['Price'].corr(result['Holt'])"
   ]
  },
  {
   "cell_type": "markdown",
   "metadata": {
    "collapsed": true
   },
   "source": [
    "### Part 3 Strategy"
   ]
  },
  {
   "cell_type": "markdown",
   "metadata": {},
   "source": [
    "#### Stratehy 1"
   ]
  },
  {
   "cell_type": "code",
   "execution_count": 1,
   "metadata": {},
   "outputs": [],
   "source": [
    "import pandas as pd\n",
    "import numpy as np\n",
    "from statsmodels.tsa.arima_model import ARIMA"
   ]
  },
  {
   "cell_type": "code",
   "execution_count": 2,
   "metadata": {},
   "outputs": [
    {
     "data": {
      "text/plain": [
       "DatetimeIndex(['1994-01-13', '1994-01-14', '1994-01-17', '1994-01-18',\n",
       "               '1994-01-19', '1994-01-20', '1994-01-21', '1994-01-24',\n",
       "               '1994-01-25', '1994-01-26',\n",
       "               ...\n",
       "               '2018-01-30', '2018-01-31', '2018-02-01', '2018-02-02',\n",
       "               '2018-02-05', '2018-02-06', '2018-02-07', '2018-02-08',\n",
       "               '2018-02-09', '2018-02-12'],\n",
       "              dtype='datetime64[ns]', length=6283, freq='B')"
      ]
     },
     "execution_count": 2,
     "metadata": {},
     "output_type": "execute_result"
    }
   ],
   "source": [
    "df=pd.read_csv('gas5.csv')\n",
    "df.Timestamp=pd.date_range('1994-01-13', periods=6283, freq='B')\n",
    "df.index=df.Timestamp\n",
    "df.index"
   ]
  },
  {
   "cell_type": "code",
   "execution_count": 6,
   "metadata": {
    "collapsed": true
   },
   "outputs": [],
   "source": [
    "#Confidence level = 70%, 7-step from 1994-01-13 to 2017-01-02\n",
    "forecast5 = ARIMA(df.Price[0:5993], order=(1,1,1)).fit(trend='nc').forecast(steps=7, alpha=0.05)"
   ]
  },
  {
   "cell_type": "code",
   "execution_count": 7,
   "metadata": {
    "collapsed": true
   },
   "outputs": [],
   "source": [
    "#Confidence level = 70%, 1-step\n",
    "forecast6 = ARIMA(df.Price[0:5994], order=(1,1,1)).fit(trend='nc').forecast(steps=1, alpha=1)"
   ]
  },
  {
   "cell_type": "code",
   "execution_count": 8,
   "metadata": {},
   "outputs": [
    {
     "data": {
      "text/plain": [
       "array([ 2.85138693,  4.59994892])"
      ]
     },
     "execution_count": 8,
     "metadata": {},
     "output_type": "execute_result"
    }
   ],
   "source": [
    "#Lower bound\n",
    "forecast5[2][6]"
   ]
  },
  {
   "cell_type": "code",
   "execution_count": 77,
   "metadata": {},
   "outputs": [
    {
     "data": {
      "text/plain": [
       "3.3359795809747728"
      ]
     },
     "execution_count": 77,
     "metadata": {},
     "output_type": "execute_result"
    }
   ],
   "source": [
    "#Upper bound\n",
    "forecast6[2][0][1]"
   ]
  },
  {
   "cell_type": "code",
   "execution_count": 78,
   "metadata": {},
   "outputs": [
    {
     "data": {
      "text/html": [
       "<div>\n",
       "<style>\n",
       "    .dataframe thead tr:only-child th {\n",
       "        text-align: right;\n",
       "    }\n",
       "\n",
       "    .dataframe thead th {\n",
       "        text-align: left;\n",
       "    }\n",
       "\n",
       "    .dataframe tbody tr th {\n",
       "        vertical-align: top;\n",
       "    }\n",
       "</style>\n",
       "<table border=\"1\" class=\"dataframe\">\n",
       "  <thead>\n",
       "    <tr style=\"text-align: right;\">\n",
       "      <th></th>\n",
       "      <th>Day</th>\n",
       "      <th>Price</th>\n",
       "    </tr>\n",
       "  </thead>\n",
       "  <tbody>\n",
       "    <tr>\n",
       "      <th>2017-01-02</th>\n",
       "      <td>2017-01-02</td>\n",
       "      <td>3.724</td>\n",
       "    </tr>\n",
       "    <tr>\n",
       "      <th>2017-01-03</th>\n",
       "      <td>2017-01-03</td>\n",
       "      <td>3.327</td>\n",
       "    </tr>\n",
       "  </tbody>\n",
       "</table>\n",
       "</div>"
      ],
      "text/plain": [
       "                   Day  Price\n",
       "2017-01-02  2017-01-02  3.724\n",
       "2017-01-03  2017-01-03  3.327"
      ]
     },
     "execution_count": 78,
     "metadata": {},
     "output_type": "execute_result"
    }
   ],
   "source": [
    "#Price on 2017-01-02 and 2017-01-03\n",
    "df[5992:5994]"
   ]
  },
  {
   "cell_type": "code",
   "execution_count": 3,
   "metadata": {
    "collapsed": true
   },
   "outputs": [],
   "source": [
    "def forecast_7_buy(price, dataframe, alpha):\n",
    "    a = ARIMA(dataframe, order=(1,1,1)).fit(trend='nc').forecast(steps=7, alpha=alpha)\n",
    "    if price <= a[2][6][0]:\n",
    "        return('buy')\n",
    "    else:\n",
    "        return('no buy')"
   ]
  },
  {
   "cell_type": "code",
   "execution_count": 4,
   "metadata": {
    "collapsed": true
   },
   "outputs": [],
   "source": [
    "def forecast_7_sell(price, dataframe, alpha):\n",
    "    a = ARIMA(dataframe, order=(1,1,1)).fit(trend='nc').forecast(steps=7, alpha=alpha)\n",
    "    if price >= a[2][6][1]:\n",
    "        return('sell')\n",
    "    else:\n",
    "        return('no sell')"
   ]
  },
  {
   "cell_type": "code",
   "execution_count": 5,
   "metadata": {
    "collapsed": true
   },
   "outputs": [],
   "source": [
    "def buy_reverse(price, dataframe, alpha):\n",
    "    a = ARIMA(dataframe, order=(1,1,1)).fit(trend='nc').forecast(steps=1, alpha=alpha)\n",
    "    if price >= a[2][0][1]:\n",
    "        return('reverse buy')\n",
    "    else:\n",
    "        return('no reverse buy')"
   ]
  },
  {
   "cell_type": "code",
   "execution_count": 6,
   "metadata": {
    "collapsed": true
   },
   "outputs": [],
   "source": [
    "def sell_reverse(price, dataframe, alpha):\n",
    "    a = ARIMA(dataframe, order=(1,1,1)).fit(trend='nc').forecast(steps=1, alpha=alpha)\n",
    "    if price <= a[2][0][0]:\n",
    "        return('reverse sell')\n",
    "    else:\n",
    "        return('no reverse sell')"
   ]
  },
  {
   "cell_type": "code",
   "execution_count": 7,
   "metadata": {},
   "outputs": [
    {
     "data": {
      "text/html": [
       "<div>\n",
       "<style scoped>\n",
       "    .dataframe tbody tr th:only-of-type {\n",
       "        vertical-align: middle;\n",
       "    }\n",
       "\n",
       "    .dataframe tbody tr th {\n",
       "        vertical-align: top;\n",
       "    }\n",
       "\n",
       "    .dataframe thead th {\n",
       "        text-align: right;\n",
       "    }\n",
       "</style>\n",
       "<table border=\"1\" class=\"dataframe\">\n",
       "  <thead>\n",
       "    <tr style=\"text-align: right;\">\n",
       "      <th></th>\n",
       "      <th>Day</th>\n",
       "      <th>Price</th>\n",
       "    </tr>\n",
       "  </thead>\n",
       "  <tbody>\n",
       "    <tr>\n",
       "      <th>2017-01-02</th>\n",
       "      <td>02/01/2017</td>\n",
       "      <td>3.724</td>\n",
       "    </tr>\n",
       "    <tr>\n",
       "      <th>2017-01-03</th>\n",
       "      <td>03/01/2017</td>\n",
       "      <td>3.327</td>\n",
       "    </tr>\n",
       "  </tbody>\n",
       "</table>\n",
       "</div>"
      ],
      "text/plain": [
       "                   Day  Price\n",
       "2017-01-02  02/01/2017  3.724\n",
       "2017-01-03  03/01/2017  3.327"
      ]
     },
     "execution_count": 7,
     "metadata": {},
     "output_type": "execute_result"
    }
   ],
   "source": [
    "#Price on 2017-01-02 and 2017-01-03\n",
    "df[5992:5994]"
   ]
  },
  {
   "cell_type": "code",
   "execution_count": 7,
   "metadata": {
    "collapsed": true
   },
   "outputs": [],
   "source": [
    "result = df[5992:].copy()\n",
    "result['buy']=np.nan #2\n",
    "result['buy_r']=np.nan #3\n",
    "result['profit']=np.nan #4\n",
    "result['sell']=np.nan #5\n",
    "result['sell_r']=np.nan #6\n",
    "result['profit2']=np.nan #7"
   ]
  },
  {
   "cell_type": "code",
   "execution_count": 77,
   "metadata": {},
   "outputs": [
    {
     "name": "stderr",
     "output_type": "stream",
     "text": [
      "/Users/shaozhao/anaconda3/lib/python3.6/site-packages/statsmodels/tsa/kalmanf/kalmanfilter.py:646: FutureWarning: Conversion of the second argument of issubdtype from `float` to `np.floating` is deprecated. In future, it will be treated as `np.float64 == np.dtype(float).type`.\n",
      "  if issubdtype(paramsdtype, float):\n",
      "/Users/shaozhao/anaconda3/lib/python3.6/site-packages/statsmodels/tsa/kalmanf/kalmanfilter.py:650: FutureWarning: Conversion of the second argument of issubdtype from `complex` to `np.complexfloating` is deprecated. In future, it will be treated as `np.complex128 == np.dtype(complex).type`.\n",
      "  elif issubdtype(paramsdtype, complex):\n",
      "/Users/shaozhao/anaconda3/lib/python3.6/site-packages/statsmodels/tsa/kalmanf/kalmanfilter.py:577: FutureWarning: Conversion of the second argument of issubdtype from `float` to `np.floating` is deprecated. In future, it will be treated as `np.float64 == np.dtype(float).type`.\n",
      "  if issubdtype(paramsdtype, float):\n"
     ]
    }
   ],
   "source": [
    "###\n",
    "for i in range(0, 260):\n",
    "    result.iloc[i,2] = forecast_7_buy(result.iloc[i,1], df.Price[0:i+5993], 1)\n",
    "    result.iloc[i,5] = forecast_7_sell(result.iloc[i,1], df.Price[0:i+5993], 1)\n",
    "    if result.iloc[i,2] == 'buy':\n",
    "        for j in range(1,31):\n",
    "            if j in range(1,8):\n",
    "                t = buy_reverse(result.iloc[i+j,1], df.Price[0:i+j+5992], 0.3)\n",
    "                if t == 'reverse buy':\n",
    "                    result.iloc[i,3] = result.iloc[i+j,0]\n",
    "                    result.iloc[i,4] = result.iloc[i+j,1]-result.iloc[i,1]\n",
    "                    break\n",
    "            elif j in range(8,15):\n",
    "                t = buy_reverse(result.iloc[i+j,1], df.Price[0:i+j+5992], 0.4)\n",
    "                if t == 'reverse buy':\n",
    "                    result.iloc[i,3] = result.iloc[i+j,0]\n",
    "                    result.iloc[i,4] = result.iloc[i+j,1]-result.iloc[i,1]\n",
    "                    break\n",
    "            elif j in range(15,22):\n",
    "                t = buy_reverse(result.iloc[i+j,1], df.Price[0:i+j+5992], 0.7)\n",
    "                if t == 'reverse buy':\n",
    "                    result.iloc[i,3] = result.iloc[i+j,0]\n",
    "                    result.iloc[i,4] = result.iloc[i+j,1]-result.iloc[i,1]\n",
    "                    break\n",
    "            else:\n",
    "                result.iloc[i,3] = result.iloc[i+30,0]\n",
    "                result.iloc[i,4] = result.iloc[i+30,1]-result.iloc[i,1]\n",
    "    elif result.iloc[i,5] == 'sell':\n",
    "        for j in range(1,31):\n",
    "            if j in range(1,8):\n",
    "                t = sell_reverse(result.iloc[i+j,1], df.Price[0:i+j+5992], 0.3)\n",
    "                if t == 'reverse sell':\n",
    "                    result.iloc[i,6] = result.iloc[i+j,0]\n",
    "                    result.iloc[i,7] = -result.iloc[i+j,1]+result.iloc[i,1]\n",
    "                    break\n",
    "            elif j in range(8,15):\n",
    "                t = sell_reverse(result.iloc[i+j,1], df.Price[0:i+j+5992], 0.4)\n",
    "                if t == 'reverse sell':\n",
    "                    result.iloc[i,6] = result.iloc[i+j,0]\n",
    "                    result.iloc[i,7] = -result.iloc[i+j,1]+result.iloc[i,1]\n",
    "                    break\n",
    "            elif j in range(15,22):\n",
    "                t = sell_reverse(result.iloc[i+j,1], df.Price[0:i+j+5992], 0.7)\n",
    "                if t == 'reverse sell':\n",
    "                    result.iloc[i,6] = result.iloc[i+j,0]\n",
    "                    result.iloc[i,7] = -result.iloc[i+j,1]+result.iloc[i,1]\n",
    "                    break\n",
    "            else:\n",
    "                result.iloc[i,6] = result.iloc[i+30,0]\n",
    "                result.iloc[i,7] = -result.iloc[i+30,1]+result.iloc[i,1]"
   ]
  },
  {
   "cell_type": "code",
   "execution_count": 78,
   "metadata": {},
   "outputs": [
    {
     "data": {
      "text/html": [
       "<div>\n",
       "<style scoped>\n",
       "    .dataframe tbody tr th:only-of-type {\n",
       "        vertical-align: middle;\n",
       "    }\n",
       "\n",
       "    .dataframe tbody tr th {\n",
       "        vertical-align: top;\n",
       "    }\n",
       "\n",
       "    .dataframe thead th {\n",
       "        text-align: right;\n",
       "    }\n",
       "</style>\n",
       "<table border=\"1\" class=\"dataframe\">\n",
       "  <thead>\n",
       "    <tr style=\"text-align: right;\">\n",
       "      <th></th>\n",
       "      <th>Day</th>\n",
       "      <th>Price</th>\n",
       "      <th>buy</th>\n",
       "      <th>buy_r</th>\n",
       "      <th>profit</th>\n",
       "      <th>sell</th>\n",
       "      <th>sell_r</th>\n",
       "      <th>profit2</th>\n",
       "    </tr>\n",
       "  </thead>\n",
       "  <tbody>\n",
       "    <tr>\n",
       "      <th>2017-01-02</th>\n",
       "      <td>02/01/2017</td>\n",
       "      <td>3.724</td>\n",
       "      <td>buy</td>\n",
       "      <td>12/01/2017</td>\n",
       "      <td>-0.338</td>\n",
       "      <td>no sell</td>\n",
       "      <td>NaN</td>\n",
       "      <td>NaN</td>\n",
       "    </tr>\n",
       "    <tr>\n",
       "      <th>2017-01-03</th>\n",
       "      <td>03/01/2017</td>\n",
       "      <td>3.327</td>\n",
       "      <td>buy</td>\n",
       "      <td>14/02/2017</td>\n",
       "      <td>-0.422</td>\n",
       "      <td>no sell</td>\n",
       "      <td>NaN</td>\n",
       "      <td>NaN</td>\n",
       "    </tr>\n",
       "    <tr>\n",
       "      <th>2017-01-04</th>\n",
       "      <td>04/01/2017</td>\n",
       "      <td>3.267</td>\n",
       "      <td>buy</td>\n",
       "      <td>15/02/2017</td>\n",
       "      <td>-0.342</td>\n",
       "      <td>no sell</td>\n",
       "      <td>NaN</td>\n",
       "      <td>NaN</td>\n",
       "    </tr>\n",
       "    <tr>\n",
       "      <th>2017-01-05</th>\n",
       "      <td>05/01/2017</td>\n",
       "      <td>3.273</td>\n",
       "      <td>buy</td>\n",
       "      <td>16/02/2017</td>\n",
       "      <td>-0.419</td>\n",
       "      <td>no sell</td>\n",
       "      <td>NaN</td>\n",
       "      <td>NaN</td>\n",
       "    </tr>\n",
       "    <tr>\n",
       "      <th>2017-01-06</th>\n",
       "      <td>06/01/2017</td>\n",
       "      <td>3.285</td>\n",
       "      <td>buy</td>\n",
       "      <td>17/02/2017</td>\n",
       "      <td>-0.451</td>\n",
       "      <td>no sell</td>\n",
       "      <td>NaN</td>\n",
       "      <td>NaN</td>\n",
       "    </tr>\n",
       "    <tr>\n",
       "      <th>2017-01-09</th>\n",
       "      <td>09/01/2017</td>\n",
       "      <td>3.103</td>\n",
       "      <td>buy</td>\n",
       "      <td>07/02/2017</td>\n",
       "      <td>0.027</td>\n",
       "      <td>no sell</td>\n",
       "      <td>NaN</td>\n",
       "      <td>NaN</td>\n",
       "    </tr>\n",
       "    <tr>\n",
       "      <th>2017-01-10</th>\n",
       "      <td>10/01/2017</td>\n",
       "      <td>3.278</td>\n",
       "      <td>no buy</td>\n",
       "      <td>NaN</td>\n",
       "      <td>NaN</td>\n",
       "      <td>sell</td>\n",
       "      <td>20/01/2017</td>\n",
       "      <td>0.074</td>\n",
       "    </tr>\n",
       "    <tr>\n",
       "      <th>2017-01-11</th>\n",
       "      <td>11/01/2017</td>\n",
       "      <td>3.224</td>\n",
       "      <td>buy</td>\n",
       "      <td>07/02/2017</td>\n",
       "      <td>-0.094</td>\n",
       "      <td>no sell</td>\n",
       "      <td>NaN</td>\n",
       "      <td>NaN</td>\n",
       "    </tr>\n",
       "    <tr>\n",
       "      <th>2017-01-12</th>\n",
       "      <td>12/01/2017</td>\n",
       "      <td>3.386</td>\n",
       "      <td>no buy</td>\n",
       "      <td>NaN</td>\n",
       "      <td>NaN</td>\n",
       "      <td>sell</td>\n",
       "      <td>30/01/2017</td>\n",
       "      <td>0.154</td>\n",
       "    </tr>\n",
       "    <tr>\n",
       "      <th>2017-01-13</th>\n",
       "      <td>13/01/2017</td>\n",
       "      <td>3.419</td>\n",
       "      <td>no buy</td>\n",
       "      <td>NaN</td>\n",
       "      <td>NaN</td>\n",
       "      <td>sell</td>\n",
       "      <td>30/01/2017</td>\n",
       "      <td>0.187</td>\n",
       "    </tr>\n",
       "    <tr>\n",
       "      <th>2017-01-16</th>\n",
       "      <td>16/01/2017</td>\n",
       "      <td>3.419</td>\n",
       "      <td>no buy</td>\n",
       "      <td>NaN</td>\n",
       "      <td>NaN</td>\n",
       "      <td>sell</td>\n",
       "      <td>30/01/2017</td>\n",
       "      <td>0.187</td>\n",
       "    </tr>\n",
       "    <tr>\n",
       "      <th>2017-01-17</th>\n",
       "      <td>17/01/2017</td>\n",
       "      <td>3.412</td>\n",
       "      <td>no buy</td>\n",
       "      <td>NaN</td>\n",
       "      <td>NaN</td>\n",
       "      <td>sell</td>\n",
       "      <td>30/01/2017</td>\n",
       "      <td>0.180</td>\n",
       "    </tr>\n",
       "    <tr>\n",
       "      <th>2017-01-18</th>\n",
       "      <td>18/01/2017</td>\n",
       "      <td>3.302</td>\n",
       "      <td>buy</td>\n",
       "      <td>01/03/2017</td>\n",
       "      <td>-0.503</td>\n",
       "      <td>no sell</td>\n",
       "      <td>NaN</td>\n",
       "      <td>NaN</td>\n",
       "    </tr>\n",
       "    <tr>\n",
       "      <th>2017-01-19</th>\n",
       "      <td>19/01/2017</td>\n",
       "      <td>3.368</td>\n",
       "      <td>no buy</td>\n",
       "      <td>NaN</td>\n",
       "      <td>NaN</td>\n",
       "      <td>sell</td>\n",
       "      <td>10/02/2017</td>\n",
       "      <td>0.334</td>\n",
       "    </tr>\n",
       "    <tr>\n",
       "      <th>2017-01-20</th>\n",
       "      <td>20/01/2017</td>\n",
       "      <td>3.204</td>\n",
       "      <td>buy</td>\n",
       "      <td>03/03/2017</td>\n",
       "      <td>-0.377</td>\n",
       "      <td>no sell</td>\n",
       "      <td>NaN</td>\n",
       "      <td>NaN</td>\n",
       "    </tr>\n",
       "    <tr>\n",
       "      <th>2017-01-23</th>\n",
       "      <td>23/01/2017</td>\n",
       "      <td>3.243</td>\n",
       "      <td>buy</td>\n",
       "      <td>06/03/2017</td>\n",
       "      <td>-0.342</td>\n",
       "      <td>no sell</td>\n",
       "      <td>NaN</td>\n",
       "      <td>NaN</td>\n",
       "    </tr>\n",
       "    <tr>\n",
       "      <th>2017-01-24</th>\n",
       "      <td>24/01/2017</td>\n",
       "      <td>3.279</td>\n",
       "      <td>buy</td>\n",
       "      <td>07/03/2017</td>\n",
       "      <td>-0.455</td>\n",
       "      <td>no sell</td>\n",
       "      <td>NaN</td>\n",
       "      <td>NaN</td>\n",
       "    </tr>\n",
       "    <tr>\n",
       "      <th>2017-01-25</th>\n",
       "      <td>25/01/2017</td>\n",
       "      <td>3.332</td>\n",
       "      <td>no buy</td>\n",
       "      <td>NaN</td>\n",
       "      <td>NaN</td>\n",
       "      <td>sell</td>\n",
       "      <td>16/02/2017</td>\n",
       "      <td>0.478</td>\n",
       "    </tr>\n",
       "    <tr>\n",
       "      <th>2017-01-26</th>\n",
       "      <td>26/01/2017</td>\n",
       "      <td>3.382</td>\n",
       "      <td>no buy</td>\n",
       "      <td>NaN</td>\n",
       "      <td>NaN</td>\n",
       "      <td>sell</td>\n",
       "      <td>16/02/2017</td>\n",
       "      <td>0.528</td>\n",
       "    </tr>\n",
       "    <tr>\n",
       "      <th>2017-01-27</th>\n",
       "      <td>27/01/2017</td>\n",
       "      <td>3.391</td>\n",
       "      <td>no buy</td>\n",
       "      <td>NaN</td>\n",
       "      <td>NaN</td>\n",
       "      <td>sell</td>\n",
       "      <td>21/02/2017</td>\n",
       "      <td>0.827</td>\n",
       "    </tr>\n",
       "    <tr>\n",
       "      <th>2017-01-30</th>\n",
       "      <td>30/01/2017</td>\n",
       "      <td>3.232</td>\n",
       "      <td>buy</td>\n",
       "      <td>28/02/2017</td>\n",
       "      <td>-0.458</td>\n",
       "      <td>no sell</td>\n",
       "      <td>NaN</td>\n",
       "      <td>NaN</td>\n",
       "    </tr>\n",
       "    <tr>\n",
       "      <th>2017-01-31</th>\n",
       "      <td>31/01/2017</td>\n",
       "      <td>3.117</td>\n",
       "      <td>buy</td>\n",
       "      <td>28/02/2017</td>\n",
       "      <td>-0.343</td>\n",
       "      <td>no sell</td>\n",
       "      <td>NaN</td>\n",
       "      <td>NaN</td>\n",
       "    </tr>\n",
       "    <tr>\n",
       "      <th>2017-02-01</th>\n",
       "      <td>01/02/2017</td>\n",
       "      <td>3.168</td>\n",
       "      <td>buy</td>\n",
       "      <td>28/02/2017</td>\n",
       "      <td>-0.394</td>\n",
       "      <td>no sell</td>\n",
       "      <td>NaN</td>\n",
       "      <td>NaN</td>\n",
       "    </tr>\n",
       "    <tr>\n",
       "      <th>2017-02-02</th>\n",
       "      <td>02/02/2017</td>\n",
       "      <td>3.187</td>\n",
       "      <td>buy</td>\n",
       "      <td>28/02/2017</td>\n",
       "      <td>-0.413</td>\n",
       "      <td>no sell</td>\n",
       "      <td>NaN</td>\n",
       "      <td>NaN</td>\n",
       "    </tr>\n",
       "    <tr>\n",
       "      <th>2017-02-03</th>\n",
       "      <td>03/02/2017</td>\n",
       "      <td>3.063</td>\n",
       "      <td>buy</td>\n",
       "      <td>28/02/2017</td>\n",
       "      <td>-0.289</td>\n",
       "      <td>no sell</td>\n",
       "      <td>NaN</td>\n",
       "      <td>NaN</td>\n",
       "    </tr>\n",
       "    <tr>\n",
       "      <th>2017-02-06</th>\n",
       "      <td>06/02/2017</td>\n",
       "      <td>3.050</td>\n",
       "      <td>buy</td>\n",
       "      <td>28/02/2017</td>\n",
       "      <td>-0.276</td>\n",
       "      <td>no sell</td>\n",
       "      <td>NaN</td>\n",
       "      <td>NaN</td>\n",
       "    </tr>\n",
       "    <tr>\n",
       "      <th>2017-02-07</th>\n",
       "      <td>07/02/2017</td>\n",
       "      <td>3.130</td>\n",
       "      <td>no buy</td>\n",
       "      <td>NaN</td>\n",
       "      <td>NaN</td>\n",
       "      <td>sell</td>\n",
       "      <td>21/02/2017</td>\n",
       "      <td>0.566</td>\n",
       "    </tr>\n",
       "    <tr>\n",
       "      <th>2017-02-08</th>\n",
       "      <td>08/02/2017</td>\n",
       "      <td>3.126</td>\n",
       "      <td>no buy</td>\n",
       "      <td>NaN</td>\n",
       "      <td>NaN</td>\n",
       "      <td>sell</td>\n",
       "      <td>21/02/2017</td>\n",
       "      <td>0.562</td>\n",
       "    </tr>\n",
       "    <tr>\n",
       "      <th>2017-02-09</th>\n",
       "      <td>09/02/2017</td>\n",
       "      <td>3.141</td>\n",
       "      <td>no buy</td>\n",
       "      <td>NaN</td>\n",
       "      <td>NaN</td>\n",
       "      <td>sell</td>\n",
       "      <td>21/02/2017</td>\n",
       "      <td>0.577</td>\n",
       "    </tr>\n",
       "    <tr>\n",
       "      <th>2017-02-10</th>\n",
       "      <td>10/02/2017</td>\n",
       "      <td>3.034</td>\n",
       "      <td>buy</td>\n",
       "      <td>06/03/2017</td>\n",
       "      <td>-0.133</td>\n",
       "      <td>no sell</td>\n",
       "      <td>NaN</td>\n",
       "      <td>NaN</td>\n",
       "    </tr>\n",
       "    <tr>\n",
       "      <th>...</th>\n",
       "      <td>...</td>\n",
       "      <td>...</td>\n",
       "      <td>...</td>\n",
       "      <td>...</td>\n",
       "      <td>...</td>\n",
       "      <td>...</td>\n",
       "      <td>...</td>\n",
       "      <td>...</td>\n",
       "    </tr>\n",
       "    <tr>\n",
       "      <th>2018-01-02</th>\n",
       "      <td>02/01/2018</td>\n",
       "      <td>3.056</td>\n",
       "      <td>NaN</td>\n",
       "      <td>NaN</td>\n",
       "      <td>NaN</td>\n",
       "      <td>NaN</td>\n",
       "      <td>NaN</td>\n",
       "      <td>NaN</td>\n",
       "    </tr>\n",
       "    <tr>\n",
       "      <th>2018-01-03</th>\n",
       "      <td>03/01/2018</td>\n",
       "      <td>3.008</td>\n",
       "      <td>NaN</td>\n",
       "      <td>NaN</td>\n",
       "      <td>NaN</td>\n",
       "      <td>NaN</td>\n",
       "      <td>NaN</td>\n",
       "      <td>NaN</td>\n",
       "    </tr>\n",
       "    <tr>\n",
       "      <th>2018-01-04</th>\n",
       "      <td>04/01/2018</td>\n",
       "      <td>2.880</td>\n",
       "      <td>NaN</td>\n",
       "      <td>NaN</td>\n",
       "      <td>NaN</td>\n",
       "      <td>NaN</td>\n",
       "      <td>NaN</td>\n",
       "      <td>NaN</td>\n",
       "    </tr>\n",
       "    <tr>\n",
       "      <th>2018-01-05</th>\n",
       "      <td>05/01/2018</td>\n",
       "      <td>2.795</td>\n",
       "      <td>NaN</td>\n",
       "      <td>NaN</td>\n",
       "      <td>NaN</td>\n",
       "      <td>NaN</td>\n",
       "      <td>NaN</td>\n",
       "      <td>NaN</td>\n",
       "    </tr>\n",
       "    <tr>\n",
       "      <th>2018-01-08</th>\n",
       "      <td>08/01/2018</td>\n",
       "      <td>2.835</td>\n",
       "      <td>NaN</td>\n",
       "      <td>NaN</td>\n",
       "      <td>NaN</td>\n",
       "      <td>NaN</td>\n",
       "      <td>NaN</td>\n",
       "      <td>NaN</td>\n",
       "    </tr>\n",
       "    <tr>\n",
       "      <th>2018-01-09</th>\n",
       "      <td>09/01/2018</td>\n",
       "      <td>2.923</td>\n",
       "      <td>NaN</td>\n",
       "      <td>NaN</td>\n",
       "      <td>NaN</td>\n",
       "      <td>NaN</td>\n",
       "      <td>NaN</td>\n",
       "      <td>NaN</td>\n",
       "    </tr>\n",
       "    <tr>\n",
       "      <th>2018-01-10</th>\n",
       "      <td>10/01/2018</td>\n",
       "      <td>2.906</td>\n",
       "      <td>NaN</td>\n",
       "      <td>NaN</td>\n",
       "      <td>NaN</td>\n",
       "      <td>NaN</td>\n",
       "      <td>NaN</td>\n",
       "      <td>NaN</td>\n",
       "    </tr>\n",
       "    <tr>\n",
       "      <th>2018-01-11</th>\n",
       "      <td>11/01/2018</td>\n",
       "      <td>3.084</td>\n",
       "      <td>NaN</td>\n",
       "      <td>NaN</td>\n",
       "      <td>NaN</td>\n",
       "      <td>NaN</td>\n",
       "      <td>NaN</td>\n",
       "      <td>NaN</td>\n",
       "    </tr>\n",
       "    <tr>\n",
       "      <th>2018-01-12</th>\n",
       "      <td>12/01/2018</td>\n",
       "      <td>3.200</td>\n",
       "      <td>NaN</td>\n",
       "      <td>NaN</td>\n",
       "      <td>NaN</td>\n",
       "      <td>NaN</td>\n",
       "      <td>NaN</td>\n",
       "      <td>NaN</td>\n",
       "    </tr>\n",
       "    <tr>\n",
       "      <th>2018-01-15</th>\n",
       "      <td>15/01/2018</td>\n",
       "      <td>3.200</td>\n",
       "      <td>NaN</td>\n",
       "      <td>NaN</td>\n",
       "      <td>NaN</td>\n",
       "      <td>NaN</td>\n",
       "      <td>NaN</td>\n",
       "      <td>NaN</td>\n",
       "    </tr>\n",
       "    <tr>\n",
       "      <th>2018-01-16</th>\n",
       "      <td>16/01/2018</td>\n",
       "      <td>3.129</td>\n",
       "      <td>NaN</td>\n",
       "      <td>NaN</td>\n",
       "      <td>NaN</td>\n",
       "      <td>NaN</td>\n",
       "      <td>NaN</td>\n",
       "      <td>NaN</td>\n",
       "    </tr>\n",
       "    <tr>\n",
       "      <th>2018-01-17</th>\n",
       "      <td>17/01/2018</td>\n",
       "      <td>3.232</td>\n",
       "      <td>NaN</td>\n",
       "      <td>NaN</td>\n",
       "      <td>NaN</td>\n",
       "      <td>NaN</td>\n",
       "      <td>NaN</td>\n",
       "      <td>NaN</td>\n",
       "    </tr>\n",
       "    <tr>\n",
       "      <th>2018-01-18</th>\n",
       "      <td>18/01/2018</td>\n",
       "      <td>3.189</td>\n",
       "      <td>NaN</td>\n",
       "      <td>NaN</td>\n",
       "      <td>NaN</td>\n",
       "      <td>NaN</td>\n",
       "      <td>NaN</td>\n",
       "      <td>NaN</td>\n",
       "    </tr>\n",
       "    <tr>\n",
       "      <th>2018-01-19</th>\n",
       "      <td>19/01/2018</td>\n",
       "      <td>3.185</td>\n",
       "      <td>NaN</td>\n",
       "      <td>NaN</td>\n",
       "      <td>NaN</td>\n",
       "      <td>NaN</td>\n",
       "      <td>NaN</td>\n",
       "      <td>NaN</td>\n",
       "    </tr>\n",
       "    <tr>\n",
       "      <th>2018-01-22</th>\n",
       "      <td>22/01/2018</td>\n",
       "      <td>3.224</td>\n",
       "      <td>NaN</td>\n",
       "      <td>NaN</td>\n",
       "      <td>NaN</td>\n",
       "      <td>NaN</td>\n",
       "      <td>NaN</td>\n",
       "      <td>NaN</td>\n",
       "    </tr>\n",
       "    <tr>\n",
       "      <th>2018-01-23</th>\n",
       "      <td>23/01/2018</td>\n",
       "      <td>3.444</td>\n",
       "      <td>NaN</td>\n",
       "      <td>NaN</td>\n",
       "      <td>NaN</td>\n",
       "      <td>NaN</td>\n",
       "      <td>NaN</td>\n",
       "      <td>NaN</td>\n",
       "    </tr>\n",
       "    <tr>\n",
       "      <th>2018-01-24</th>\n",
       "      <td>24/01/2018</td>\n",
       "      <td>3.509</td>\n",
       "      <td>NaN</td>\n",
       "      <td>NaN</td>\n",
       "      <td>NaN</td>\n",
       "      <td>NaN</td>\n",
       "      <td>NaN</td>\n",
       "      <td>NaN</td>\n",
       "    </tr>\n",
       "    <tr>\n",
       "      <th>2018-01-25</th>\n",
       "      <td>25/01/2018</td>\n",
       "      <td>3.447</td>\n",
       "      <td>NaN</td>\n",
       "      <td>NaN</td>\n",
       "      <td>NaN</td>\n",
       "      <td>NaN</td>\n",
       "      <td>NaN</td>\n",
       "      <td>NaN</td>\n",
       "    </tr>\n",
       "    <tr>\n",
       "      <th>2018-01-26</th>\n",
       "      <td>26/01/2018</td>\n",
       "      <td>3.505</td>\n",
       "      <td>NaN</td>\n",
       "      <td>NaN</td>\n",
       "      <td>NaN</td>\n",
       "      <td>NaN</td>\n",
       "      <td>NaN</td>\n",
       "      <td>NaN</td>\n",
       "    </tr>\n",
       "    <tr>\n",
       "      <th>2018-01-29</th>\n",
       "      <td>29/01/2018</td>\n",
       "      <td>3.631</td>\n",
       "      <td>NaN</td>\n",
       "      <td>NaN</td>\n",
       "      <td>NaN</td>\n",
       "      <td>NaN</td>\n",
       "      <td>NaN</td>\n",
       "      <td>NaN</td>\n",
       "    </tr>\n",
       "    <tr>\n",
       "      <th>2018-01-30</th>\n",
       "      <td>30/01/2018</td>\n",
       "      <td>3.195</td>\n",
       "      <td>NaN</td>\n",
       "      <td>NaN</td>\n",
       "      <td>NaN</td>\n",
       "      <td>NaN</td>\n",
       "      <td>NaN</td>\n",
       "      <td>NaN</td>\n",
       "    </tr>\n",
       "    <tr>\n",
       "      <th>2018-01-31</th>\n",
       "      <td>31/01/2018</td>\n",
       "      <td>2.995</td>\n",
       "      <td>NaN</td>\n",
       "      <td>NaN</td>\n",
       "      <td>NaN</td>\n",
       "      <td>NaN</td>\n",
       "      <td>NaN</td>\n",
       "      <td>NaN</td>\n",
       "    </tr>\n",
       "    <tr>\n",
       "      <th>2018-02-01</th>\n",
       "      <td>01/02/2018</td>\n",
       "      <td>2.856</td>\n",
       "      <td>NaN</td>\n",
       "      <td>NaN</td>\n",
       "      <td>NaN</td>\n",
       "      <td>NaN</td>\n",
       "      <td>NaN</td>\n",
       "      <td>NaN</td>\n",
       "    </tr>\n",
       "    <tr>\n",
       "      <th>2018-02-02</th>\n",
       "      <td>02/02/2018</td>\n",
       "      <td>2.846</td>\n",
       "      <td>NaN</td>\n",
       "      <td>NaN</td>\n",
       "      <td>NaN</td>\n",
       "      <td>NaN</td>\n",
       "      <td>NaN</td>\n",
       "      <td>NaN</td>\n",
       "    </tr>\n",
       "    <tr>\n",
       "      <th>2018-02-05</th>\n",
       "      <td>05/02/2018</td>\n",
       "      <td>2.747</td>\n",
       "      <td>NaN</td>\n",
       "      <td>NaN</td>\n",
       "      <td>NaN</td>\n",
       "      <td>NaN</td>\n",
       "      <td>NaN</td>\n",
       "      <td>NaN</td>\n",
       "    </tr>\n",
       "    <tr>\n",
       "      <th>2018-02-06</th>\n",
       "      <td>06/02/2018</td>\n",
       "      <td>2.759</td>\n",
       "      <td>NaN</td>\n",
       "      <td>NaN</td>\n",
       "      <td>NaN</td>\n",
       "      <td>NaN</td>\n",
       "      <td>NaN</td>\n",
       "      <td>NaN</td>\n",
       "    </tr>\n",
       "    <tr>\n",
       "      <th>2018-02-07</th>\n",
       "      <td>07/02/2018</td>\n",
       "      <td>2.702</td>\n",
       "      <td>NaN</td>\n",
       "      <td>NaN</td>\n",
       "      <td>NaN</td>\n",
       "      <td>NaN</td>\n",
       "      <td>NaN</td>\n",
       "      <td>NaN</td>\n",
       "    </tr>\n",
       "    <tr>\n",
       "      <th>2018-02-08</th>\n",
       "      <td>08/02/2018</td>\n",
       "      <td>2.697</td>\n",
       "      <td>NaN</td>\n",
       "      <td>NaN</td>\n",
       "      <td>NaN</td>\n",
       "      <td>NaN</td>\n",
       "      <td>NaN</td>\n",
       "      <td>NaN</td>\n",
       "    </tr>\n",
       "    <tr>\n",
       "      <th>2018-02-09</th>\n",
       "      <td>09/02/2018</td>\n",
       "      <td>2.584</td>\n",
       "      <td>NaN</td>\n",
       "      <td>NaN</td>\n",
       "      <td>NaN</td>\n",
       "      <td>NaN</td>\n",
       "      <td>NaN</td>\n",
       "      <td>NaN</td>\n",
       "    </tr>\n",
       "    <tr>\n",
       "      <th>2018-02-12</th>\n",
       "      <td>12/02/2018</td>\n",
       "      <td>2.552</td>\n",
       "      <td>NaN</td>\n",
       "      <td>NaN</td>\n",
       "      <td>NaN</td>\n",
       "      <td>NaN</td>\n",
       "      <td>NaN</td>\n",
       "      <td>NaN</td>\n",
       "    </tr>\n",
       "  </tbody>\n",
       "</table>\n",
       "<p>291 rows × 8 columns</p>\n",
       "</div>"
      ],
      "text/plain": [
       "                   Day  Price     buy       buy_r  profit     sell  \\\n",
       "2017-01-02  02/01/2017  3.724     buy  12/01/2017  -0.338  no sell   \n",
       "2017-01-03  03/01/2017  3.327     buy  14/02/2017  -0.422  no sell   \n",
       "2017-01-04  04/01/2017  3.267     buy  15/02/2017  -0.342  no sell   \n",
       "2017-01-05  05/01/2017  3.273     buy  16/02/2017  -0.419  no sell   \n",
       "2017-01-06  06/01/2017  3.285     buy  17/02/2017  -0.451  no sell   \n",
       "2017-01-09  09/01/2017  3.103     buy  07/02/2017   0.027  no sell   \n",
       "2017-01-10  10/01/2017  3.278  no buy         NaN     NaN     sell   \n",
       "2017-01-11  11/01/2017  3.224     buy  07/02/2017  -0.094  no sell   \n",
       "2017-01-12  12/01/2017  3.386  no buy         NaN     NaN     sell   \n",
       "2017-01-13  13/01/2017  3.419  no buy         NaN     NaN     sell   \n",
       "2017-01-16  16/01/2017  3.419  no buy         NaN     NaN     sell   \n",
       "2017-01-17  17/01/2017  3.412  no buy         NaN     NaN     sell   \n",
       "2017-01-18  18/01/2017  3.302     buy  01/03/2017  -0.503  no sell   \n",
       "2017-01-19  19/01/2017  3.368  no buy         NaN     NaN     sell   \n",
       "2017-01-20  20/01/2017  3.204     buy  03/03/2017  -0.377  no sell   \n",
       "2017-01-23  23/01/2017  3.243     buy  06/03/2017  -0.342  no sell   \n",
       "2017-01-24  24/01/2017  3.279     buy  07/03/2017  -0.455  no sell   \n",
       "2017-01-25  25/01/2017  3.332  no buy         NaN     NaN     sell   \n",
       "2017-01-26  26/01/2017  3.382  no buy         NaN     NaN     sell   \n",
       "2017-01-27  27/01/2017  3.391  no buy         NaN     NaN     sell   \n",
       "2017-01-30  30/01/2017  3.232     buy  28/02/2017  -0.458  no sell   \n",
       "2017-01-31  31/01/2017  3.117     buy  28/02/2017  -0.343  no sell   \n",
       "2017-02-01  01/02/2017  3.168     buy  28/02/2017  -0.394  no sell   \n",
       "2017-02-02  02/02/2017  3.187     buy  28/02/2017  -0.413  no sell   \n",
       "2017-02-03  03/02/2017  3.063     buy  28/02/2017  -0.289  no sell   \n",
       "2017-02-06  06/02/2017  3.050     buy  28/02/2017  -0.276  no sell   \n",
       "2017-02-07  07/02/2017  3.130  no buy         NaN     NaN     sell   \n",
       "2017-02-08  08/02/2017  3.126  no buy         NaN     NaN     sell   \n",
       "2017-02-09  09/02/2017  3.141  no buy         NaN     NaN     sell   \n",
       "2017-02-10  10/02/2017  3.034     buy  06/03/2017  -0.133  no sell   \n",
       "...                ...    ...     ...         ...     ...      ...   \n",
       "2018-01-02  02/01/2018  3.056     NaN         NaN     NaN      NaN   \n",
       "2018-01-03  03/01/2018  3.008     NaN         NaN     NaN      NaN   \n",
       "2018-01-04  04/01/2018  2.880     NaN         NaN     NaN      NaN   \n",
       "2018-01-05  05/01/2018  2.795     NaN         NaN     NaN      NaN   \n",
       "2018-01-08  08/01/2018  2.835     NaN         NaN     NaN      NaN   \n",
       "2018-01-09  09/01/2018  2.923     NaN         NaN     NaN      NaN   \n",
       "2018-01-10  10/01/2018  2.906     NaN         NaN     NaN      NaN   \n",
       "2018-01-11  11/01/2018  3.084     NaN         NaN     NaN      NaN   \n",
       "2018-01-12  12/01/2018  3.200     NaN         NaN     NaN      NaN   \n",
       "2018-01-15  15/01/2018  3.200     NaN         NaN     NaN      NaN   \n",
       "2018-01-16  16/01/2018  3.129     NaN         NaN     NaN      NaN   \n",
       "2018-01-17  17/01/2018  3.232     NaN         NaN     NaN      NaN   \n",
       "2018-01-18  18/01/2018  3.189     NaN         NaN     NaN      NaN   \n",
       "2018-01-19  19/01/2018  3.185     NaN         NaN     NaN      NaN   \n",
       "2018-01-22  22/01/2018  3.224     NaN         NaN     NaN      NaN   \n",
       "2018-01-23  23/01/2018  3.444     NaN         NaN     NaN      NaN   \n",
       "2018-01-24  24/01/2018  3.509     NaN         NaN     NaN      NaN   \n",
       "2018-01-25  25/01/2018  3.447     NaN         NaN     NaN      NaN   \n",
       "2018-01-26  26/01/2018  3.505     NaN         NaN     NaN      NaN   \n",
       "2018-01-29  29/01/2018  3.631     NaN         NaN     NaN      NaN   \n",
       "2018-01-30  30/01/2018  3.195     NaN         NaN     NaN      NaN   \n",
       "2018-01-31  31/01/2018  2.995     NaN         NaN     NaN      NaN   \n",
       "2018-02-01  01/02/2018  2.856     NaN         NaN     NaN      NaN   \n",
       "2018-02-02  02/02/2018  2.846     NaN         NaN     NaN      NaN   \n",
       "2018-02-05  05/02/2018  2.747     NaN         NaN     NaN      NaN   \n",
       "2018-02-06  06/02/2018  2.759     NaN         NaN     NaN      NaN   \n",
       "2018-02-07  07/02/2018  2.702     NaN         NaN     NaN      NaN   \n",
       "2018-02-08  08/02/2018  2.697     NaN         NaN     NaN      NaN   \n",
       "2018-02-09  09/02/2018  2.584     NaN         NaN     NaN      NaN   \n",
       "2018-02-12  12/02/2018  2.552     NaN         NaN     NaN      NaN   \n",
       "\n",
       "                sell_r  profit2  \n",
       "2017-01-02         NaN      NaN  \n",
       "2017-01-03         NaN      NaN  \n",
       "2017-01-04         NaN      NaN  \n",
       "2017-01-05         NaN      NaN  \n",
       "2017-01-06         NaN      NaN  \n",
       "2017-01-09         NaN      NaN  \n",
       "2017-01-10  20/01/2017    0.074  \n",
       "2017-01-11         NaN      NaN  \n",
       "2017-01-12  30/01/2017    0.154  \n",
       "2017-01-13  30/01/2017    0.187  \n",
       "2017-01-16  30/01/2017    0.187  \n",
       "2017-01-17  30/01/2017    0.180  \n",
       "2017-01-18         NaN      NaN  \n",
       "2017-01-19  10/02/2017    0.334  \n",
       "2017-01-20         NaN      NaN  \n",
       "2017-01-23         NaN      NaN  \n",
       "2017-01-24         NaN      NaN  \n",
       "2017-01-25  16/02/2017    0.478  \n",
       "2017-01-26  16/02/2017    0.528  \n",
       "2017-01-27  21/02/2017    0.827  \n",
       "2017-01-30         NaN      NaN  \n",
       "2017-01-31         NaN      NaN  \n",
       "2017-02-01         NaN      NaN  \n",
       "2017-02-02         NaN      NaN  \n",
       "2017-02-03         NaN      NaN  \n",
       "2017-02-06         NaN      NaN  \n",
       "2017-02-07  21/02/2017    0.566  \n",
       "2017-02-08  21/02/2017    0.562  \n",
       "2017-02-09  21/02/2017    0.577  \n",
       "2017-02-10         NaN      NaN  \n",
       "...                ...      ...  \n",
       "2018-01-02         NaN      NaN  \n",
       "2018-01-03         NaN      NaN  \n",
       "2018-01-04         NaN      NaN  \n",
       "2018-01-05         NaN      NaN  \n",
       "2018-01-08         NaN      NaN  \n",
       "2018-01-09         NaN      NaN  \n",
       "2018-01-10         NaN      NaN  \n",
       "2018-01-11         NaN      NaN  \n",
       "2018-01-12         NaN      NaN  \n",
       "2018-01-15         NaN      NaN  \n",
       "2018-01-16         NaN      NaN  \n",
       "2018-01-17         NaN      NaN  \n",
       "2018-01-18         NaN      NaN  \n",
       "2018-01-19         NaN      NaN  \n",
       "2018-01-22         NaN      NaN  \n",
       "2018-01-23         NaN      NaN  \n",
       "2018-01-24         NaN      NaN  \n",
       "2018-01-25         NaN      NaN  \n",
       "2018-01-26         NaN      NaN  \n",
       "2018-01-29         NaN      NaN  \n",
       "2018-01-30         NaN      NaN  \n",
       "2018-01-31         NaN      NaN  \n",
       "2018-02-01         NaN      NaN  \n",
       "2018-02-02         NaN      NaN  \n",
       "2018-02-05         NaN      NaN  \n",
       "2018-02-06         NaN      NaN  \n",
       "2018-02-07         NaN      NaN  \n",
       "2018-02-08         NaN      NaN  \n",
       "2018-02-09         NaN      NaN  \n",
       "2018-02-12         NaN      NaN  \n",
       "\n",
       "[291 rows x 8 columns]"
      ]
     },
     "execution_count": 78,
     "metadata": {},
     "output_type": "execute_result"
    }
   ],
   "source": [
    "result"
   ]
  },
  {
   "cell_type": "code",
   "execution_count": 79,
   "metadata": {},
   "outputs": [
    {
     "data": {
      "text/plain": [
       "10.396000000000008"
      ]
     },
     "execution_count": 79,
     "metadata": {},
     "output_type": "execute_result"
    }
   ],
   "source": [
    "result.profit.sum()+result.profit2.sum()"
   ]
  },
  {
   "cell_type": "code",
   "execution_count": 80,
   "metadata": {},
   "outputs": [
    {
     "data": {
      "text/plain": [
       "1"
      ]
     },
     "execution_count": 80,
     "metadata": {},
     "output_type": "execute_result"
    }
   ],
   "source": [
    "pd.to_datetime(result.iloc[4,0]).day"
   ]
  },
  {
   "cell_type": "markdown",
   "metadata": {},
   "source": [
    "### Part 4: Risk Control"
   ]
  },
  {
   "cell_type": "code",
   "execution_count": null,
   "metadata": {
    "collapsed": true
   },
   "outputs": [],
   "source": [
    "result = df[5992:].copy()\n",
    "result['buy']=np.nan #2\n",
    "result['buy_r']=np.nan #3\n",
    "result['profit']=np.nan #4\n",
    "result['sell']=np.nan #5\n",
    "result['sell_r']=np.nan #6\n",
    "result['profit2']=np.nan #7"
   ]
  },
  {
   "cell_type": "code",
   "execution_count": 8,
   "metadata": {},
   "outputs": [
    {
     "name": "stderr",
     "output_type": "stream",
     "text": [
      "/Users/shaozhao/anaconda3/lib/python3.6/site-packages/statsmodels/tsa/kalmanf/kalmanfilter.py:646: FutureWarning: Conversion of the second argument of issubdtype from `float` to `np.floating` is deprecated. In future, it will be treated as `np.float64 == np.dtype(float).type`.\n",
      "  if issubdtype(paramsdtype, float):\n",
      "/Users/shaozhao/anaconda3/lib/python3.6/site-packages/statsmodels/tsa/kalmanf/kalmanfilter.py:650: FutureWarning: Conversion of the second argument of issubdtype from `complex` to `np.complexfloating` is deprecated. In future, it will be treated as `np.complex128 == np.dtype(complex).type`.\n",
      "  elif issubdtype(paramsdtype, complex):\n",
      "/Users/shaozhao/anaconda3/lib/python3.6/site-packages/statsmodels/tsa/kalmanf/kalmanfilter.py:577: FutureWarning: Conversion of the second argument of issubdtype from `float` to `np.floating` is deprecated. In future, it will be treated as `np.float64 == np.dtype(float).type`.\n",
      "  if issubdtype(paramsdtype, float):\n"
     ]
    }
   ],
   "source": [
    "###\n",
    "for i in range(0, 260):\n",
    "    result.iloc[i,2] = forecast_7_buy(result.iloc[i,1], df.Price[0:i+5993], 1)\n",
    "    result.iloc[i,5] = forecast_7_sell(result.iloc[i,1], df.Price[0:i+5993], 1)\n",
    "    if result.iloc[i,2] == 'buy':\n",
    "        for j in range(1,31):\n",
    "            if j in range(1,8):\n",
    "                t = buy_reverse(result.iloc[i+j,1], df.Price[0:i+j+5992], 0.3)\n",
    "                if t == 'reverse buy' and (result.iloc[i+j,1]/result.iloc[i,1])>=1:\n",
    "                    result.iloc[i,3] = result.iloc[i+j,0]\n",
    "                    result.iloc[i,4] = result.iloc[i+j,1]-result.iloc[i,1]\n",
    "                    break\n",
    "            elif j in range(8,15):\n",
    "                t = buy_reverse(result.iloc[i+j,1], df.Price[0:i+j+5992], 0.4)\n",
    "                if t == 'reverse buy' and (result.iloc[i+j,1]/result.iloc[i,1])>=1:\n",
    "                    result.iloc[i,3] = result.iloc[i+j,0]\n",
    "                    result.iloc[i,4] = result.iloc[i+j,1]-result.iloc[i,1]\n",
    "                    break\n",
    "            elif j in range(15,22):\n",
    "                t = buy_reverse(result.iloc[i+j,1], df.Price[0:i+j+5992], 0.7)\n",
    "                if t == 'reverse buy' and (result.iloc[i+j,1]/result.iloc[i,1])>=0.9:\n",
    "                    result.iloc[i,3] = result.iloc[i+j,0]\n",
    "                    result.iloc[i,4] = result.iloc[i+j,1]-result.iloc[i,1]\n",
    "                    break\n",
    "            else:\n",
    "                result.iloc[i,3] = result.iloc[i+30,0]\n",
    "                result.iloc[i,4] = result.iloc[i+30,1]-result.iloc[i,1]\n",
    "    elif result.iloc[i,5] == 'sell':\n",
    "        for j in range(1,31):\n",
    "            if j in range(1,8):\n",
    "                t = sell_reverse(result.iloc[i+j,1], df.Price[0:i+j+5992], 0.3)\n",
    "                if t == 'reverse sell' and (result.iloc[i,1]/result.iloc[i+j,1])>=1:\n",
    "                    result.iloc[i,6] = result.iloc[i+j,0]\n",
    "                    result.iloc[i,7] = -result.iloc[i+j,1]+result.iloc[i,1]\n",
    "                    break\n",
    "            elif j in range(8,15):\n",
    "                t = sell_reverse(result.iloc[i+j,1], df.Price[0:i+j+5992], 0.4)\n",
    "                if t == 'reverse sell' and (result.iloc[i,1]/result.iloc[i+j,1])>=1:\n",
    "                    result.iloc[i,6] = result.iloc[i+j,0]\n",
    "                    result.iloc[i,7] = -result.iloc[i+j,1]+result.iloc[i,1]\n",
    "                    break\n",
    "            elif j in range(15,22):\n",
    "                t = sell_reverse(result.iloc[i+j,1], df.Price[0:i+j+5992], 0.7)\n",
    "                if t == 'reverse sell' and (result.iloc[i,1]/result.iloc[i+j,1])>=0.9:\n",
    "                    result.iloc[i,6] = result.iloc[i+j,0]\n",
    "                    result.iloc[i,7] = -result.iloc[i+j,1]+result.iloc[i,1]\n",
    "                    break\n",
    "            else:\n",
    "                result.iloc[i,6] = result.iloc[i+30,0]\n",
    "                result.iloc[i,7] = -result.iloc[i+30,1]+result.iloc[i,1]"
   ]
  },
  {
   "cell_type": "code",
   "execution_count": 9,
   "metadata": {},
   "outputs": [
    {
     "data": {
      "text/plain": [
       "10.72900000000001"
      ]
     },
     "execution_count": 9,
     "metadata": {},
     "output_type": "execute_result"
    }
   ],
   "source": [
    "result.profit.sum()+result.profit2.sum()"
   ]
  },
  {
   "cell_type": "code",
   "execution_count": 10,
   "metadata": {},
   "outputs": [
    {
     "data": {
      "text/html": [
       "<div>\n",
       "<style scoped>\n",
       "    .dataframe tbody tr th:only-of-type {\n",
       "        vertical-align: middle;\n",
       "    }\n",
       "\n",
       "    .dataframe tbody tr th {\n",
       "        vertical-align: top;\n",
       "    }\n",
       "\n",
       "    .dataframe thead th {\n",
       "        text-align: right;\n",
       "    }\n",
       "</style>\n",
       "<table border=\"1\" class=\"dataframe\">\n",
       "  <thead>\n",
       "    <tr style=\"text-align: right;\">\n",
       "      <th></th>\n",
       "      <th>Day</th>\n",
       "      <th>Price</th>\n",
       "      <th>buy</th>\n",
       "      <th>buy_r</th>\n",
       "      <th>profit</th>\n",
       "      <th>sell</th>\n",
       "      <th>sell_r</th>\n",
       "      <th>profit2</th>\n",
       "    </tr>\n",
       "  </thead>\n",
       "  <tbody>\n",
       "    <tr>\n",
       "      <th>2017-01-02</th>\n",
       "      <td>02/01/2017</td>\n",
       "      <td>3.724</td>\n",
       "      <td>buy</td>\n",
       "      <td>13/02/2017</td>\n",
       "      <td>-0.780</td>\n",
       "      <td>no sell</td>\n",
       "      <td>NaN</td>\n",
       "      <td>NaN</td>\n",
       "    </tr>\n",
       "    <tr>\n",
       "      <th>2017-01-03</th>\n",
       "      <td>03/01/2017</td>\n",
       "      <td>3.327</td>\n",
       "      <td>buy</td>\n",
       "      <td>14/02/2017</td>\n",
       "      <td>-0.422</td>\n",
       "      <td>no sell</td>\n",
       "      <td>NaN</td>\n",
       "      <td>NaN</td>\n",
       "    </tr>\n",
       "    <tr>\n",
       "      <th>2017-01-04</th>\n",
       "      <td>04/01/2017</td>\n",
       "      <td>3.267</td>\n",
       "      <td>buy</td>\n",
       "      <td>15/02/2017</td>\n",
       "      <td>-0.342</td>\n",
       "      <td>no sell</td>\n",
       "      <td>NaN</td>\n",
       "      <td>NaN</td>\n",
       "    </tr>\n",
       "    <tr>\n",
       "      <th>2017-01-05</th>\n",
       "      <td>05/01/2017</td>\n",
       "      <td>3.273</td>\n",
       "      <td>buy</td>\n",
       "      <td>16/02/2017</td>\n",
       "      <td>-0.419</td>\n",
       "      <td>no sell</td>\n",
       "      <td>NaN</td>\n",
       "      <td>NaN</td>\n",
       "    </tr>\n",
       "    <tr>\n",
       "      <th>2017-01-06</th>\n",
       "      <td>06/01/2017</td>\n",
       "      <td>3.285</td>\n",
       "      <td>buy</td>\n",
       "      <td>17/02/2017</td>\n",
       "      <td>-0.451</td>\n",
       "      <td>no sell</td>\n",
       "      <td>NaN</td>\n",
       "      <td>NaN</td>\n",
       "    </tr>\n",
       "    <tr>\n",
       "      <th>2017-01-09</th>\n",
       "      <td>09/01/2017</td>\n",
       "      <td>3.103</td>\n",
       "      <td>buy</td>\n",
       "      <td>07/02/2017</td>\n",
       "      <td>0.027</td>\n",
       "      <td>no sell</td>\n",
       "      <td>NaN</td>\n",
       "      <td>NaN</td>\n",
       "    </tr>\n",
       "    <tr>\n",
       "      <th>2017-01-10</th>\n",
       "      <td>10/01/2017</td>\n",
       "      <td>3.278</td>\n",
       "      <td>no buy</td>\n",
       "      <td>NaN</td>\n",
       "      <td>NaN</td>\n",
       "      <td>sell</td>\n",
       "      <td>20/01/2017</td>\n",
       "      <td>0.074</td>\n",
       "    </tr>\n",
       "    <tr>\n",
       "      <th>2017-01-11</th>\n",
       "      <td>11/01/2017</td>\n",
       "      <td>3.224</td>\n",
       "      <td>buy</td>\n",
       "      <td>07/02/2017</td>\n",
       "      <td>-0.094</td>\n",
       "      <td>no sell</td>\n",
       "      <td>NaN</td>\n",
       "      <td>NaN</td>\n",
       "    </tr>\n",
       "    <tr>\n",
       "      <th>2017-01-12</th>\n",
       "      <td>12/01/2017</td>\n",
       "      <td>3.386</td>\n",
       "      <td>no buy</td>\n",
       "      <td>NaN</td>\n",
       "      <td>NaN</td>\n",
       "      <td>sell</td>\n",
       "      <td>30/01/2017</td>\n",
       "      <td>0.154</td>\n",
       "    </tr>\n",
       "    <tr>\n",
       "      <th>2017-01-13</th>\n",
       "      <td>13/01/2017</td>\n",
       "      <td>3.419</td>\n",
       "      <td>no buy</td>\n",
       "      <td>NaN</td>\n",
       "      <td>NaN</td>\n",
       "      <td>sell</td>\n",
       "      <td>30/01/2017</td>\n",
       "      <td>0.187</td>\n",
       "    </tr>\n",
       "    <tr>\n",
       "      <th>2017-01-16</th>\n",
       "      <td>16/01/2017</td>\n",
       "      <td>3.419</td>\n",
       "      <td>no buy</td>\n",
       "      <td>NaN</td>\n",
       "      <td>NaN</td>\n",
       "      <td>sell</td>\n",
       "      <td>30/01/2017</td>\n",
       "      <td>0.187</td>\n",
       "    </tr>\n",
       "    <tr>\n",
       "      <th>2017-01-17</th>\n",
       "      <td>17/01/2017</td>\n",
       "      <td>3.412</td>\n",
       "      <td>no buy</td>\n",
       "      <td>NaN</td>\n",
       "      <td>NaN</td>\n",
       "      <td>sell</td>\n",
       "      <td>30/01/2017</td>\n",
       "      <td>0.180</td>\n",
       "    </tr>\n",
       "    <tr>\n",
       "      <th>2017-01-18</th>\n",
       "      <td>18/01/2017</td>\n",
       "      <td>3.302</td>\n",
       "      <td>buy</td>\n",
       "      <td>01/03/2017</td>\n",
       "      <td>-0.503</td>\n",
       "      <td>no sell</td>\n",
       "      <td>NaN</td>\n",
       "      <td>NaN</td>\n",
       "    </tr>\n",
       "    <tr>\n",
       "      <th>2017-01-19</th>\n",
       "      <td>19/01/2017</td>\n",
       "      <td>3.368</td>\n",
       "      <td>no buy</td>\n",
       "      <td>NaN</td>\n",
       "      <td>NaN</td>\n",
       "      <td>sell</td>\n",
       "      <td>10/02/2017</td>\n",
       "      <td>0.334</td>\n",
       "    </tr>\n",
       "    <tr>\n",
       "      <th>2017-01-20</th>\n",
       "      <td>20/01/2017</td>\n",
       "      <td>3.204</td>\n",
       "      <td>buy</td>\n",
       "      <td>03/03/2017</td>\n",
       "      <td>-0.377</td>\n",
       "      <td>no sell</td>\n",
       "      <td>NaN</td>\n",
       "      <td>NaN</td>\n",
       "    </tr>\n",
       "    <tr>\n",
       "      <th>2017-01-23</th>\n",
       "      <td>23/01/2017</td>\n",
       "      <td>3.243</td>\n",
       "      <td>buy</td>\n",
       "      <td>06/03/2017</td>\n",
       "      <td>-0.342</td>\n",
       "      <td>no sell</td>\n",
       "      <td>NaN</td>\n",
       "      <td>NaN</td>\n",
       "    </tr>\n",
       "    <tr>\n",
       "      <th>2017-01-24</th>\n",
       "      <td>24/01/2017</td>\n",
       "      <td>3.279</td>\n",
       "      <td>buy</td>\n",
       "      <td>07/03/2017</td>\n",
       "      <td>-0.455</td>\n",
       "      <td>no sell</td>\n",
       "      <td>NaN</td>\n",
       "      <td>NaN</td>\n",
       "    </tr>\n",
       "    <tr>\n",
       "      <th>2017-01-25</th>\n",
       "      <td>25/01/2017</td>\n",
       "      <td>3.332</td>\n",
       "      <td>no buy</td>\n",
       "      <td>NaN</td>\n",
       "      <td>NaN</td>\n",
       "      <td>sell</td>\n",
       "      <td>16/02/2017</td>\n",
       "      <td>0.478</td>\n",
       "    </tr>\n",
       "    <tr>\n",
       "      <th>2017-01-26</th>\n",
       "      <td>26/01/2017</td>\n",
       "      <td>3.382</td>\n",
       "      <td>no buy</td>\n",
       "      <td>NaN</td>\n",
       "      <td>NaN</td>\n",
       "      <td>sell</td>\n",
       "      <td>16/02/2017</td>\n",
       "      <td>0.528</td>\n",
       "    </tr>\n",
       "    <tr>\n",
       "      <th>2017-01-27</th>\n",
       "      <td>27/01/2017</td>\n",
       "      <td>3.391</td>\n",
       "      <td>no buy</td>\n",
       "      <td>NaN</td>\n",
       "      <td>NaN</td>\n",
       "      <td>sell</td>\n",
       "      <td>21/02/2017</td>\n",
       "      <td>0.827</td>\n",
       "    </tr>\n",
       "    <tr>\n",
       "      <th>2017-01-30</th>\n",
       "      <td>30/01/2017</td>\n",
       "      <td>3.232</td>\n",
       "      <td>buy</td>\n",
       "      <td>13/03/2017</td>\n",
       "      <td>-0.189</td>\n",
       "      <td>no sell</td>\n",
       "      <td>NaN</td>\n",
       "      <td>NaN</td>\n",
       "    </tr>\n",
       "    <tr>\n",
       "      <th>2017-01-31</th>\n",
       "      <td>31/01/2017</td>\n",
       "      <td>3.117</td>\n",
       "      <td>buy</td>\n",
       "      <td>14/03/2017</td>\n",
       "      <td>-0.179</td>\n",
       "      <td>no sell</td>\n",
       "      <td>NaN</td>\n",
       "      <td>NaN</td>\n",
       "    </tr>\n",
       "    <tr>\n",
       "      <th>2017-02-01</th>\n",
       "      <td>01/02/2017</td>\n",
       "      <td>3.168</td>\n",
       "      <td>buy</td>\n",
       "      <td>15/03/2017</td>\n",
       "      <td>-0.187</td>\n",
       "      <td>no sell</td>\n",
       "      <td>NaN</td>\n",
       "      <td>NaN</td>\n",
       "    </tr>\n",
       "    <tr>\n",
       "      <th>2017-02-02</th>\n",
       "      <td>02/02/2017</td>\n",
       "      <td>3.187</td>\n",
       "      <td>buy</td>\n",
       "      <td>16/03/2017</td>\n",
       "      <td>-0.285</td>\n",
       "      <td>no sell</td>\n",
       "      <td>NaN</td>\n",
       "      <td>NaN</td>\n",
       "    </tr>\n",
       "    <tr>\n",
       "      <th>2017-02-03</th>\n",
       "      <td>03/02/2017</td>\n",
       "      <td>3.063</td>\n",
       "      <td>buy</td>\n",
       "      <td>28/02/2017</td>\n",
       "      <td>-0.289</td>\n",
       "      <td>no sell</td>\n",
       "      <td>NaN</td>\n",
       "      <td>NaN</td>\n",
       "    </tr>\n",
       "    <tr>\n",
       "      <th>2017-02-06</th>\n",
       "      <td>06/02/2017</td>\n",
       "      <td>3.050</td>\n",
       "      <td>buy</td>\n",
       "      <td>28/02/2017</td>\n",
       "      <td>-0.276</td>\n",
       "      <td>no sell</td>\n",
       "      <td>NaN</td>\n",
       "      <td>NaN</td>\n",
       "    </tr>\n",
       "    <tr>\n",
       "      <th>2017-02-07</th>\n",
       "      <td>07/02/2017</td>\n",
       "      <td>3.130</td>\n",
       "      <td>no buy</td>\n",
       "      <td>NaN</td>\n",
       "      <td>NaN</td>\n",
       "      <td>sell</td>\n",
       "      <td>21/02/2017</td>\n",
       "      <td>0.566</td>\n",
       "    </tr>\n",
       "    <tr>\n",
       "      <th>2017-02-08</th>\n",
       "      <td>08/02/2017</td>\n",
       "      <td>3.126</td>\n",
       "      <td>no buy</td>\n",
       "      <td>NaN</td>\n",
       "      <td>NaN</td>\n",
       "      <td>sell</td>\n",
       "      <td>21/02/2017</td>\n",
       "      <td>0.562</td>\n",
       "    </tr>\n",
       "    <tr>\n",
       "      <th>2017-02-09</th>\n",
       "      <td>09/02/2017</td>\n",
       "      <td>3.141</td>\n",
       "      <td>no buy</td>\n",
       "      <td>NaN</td>\n",
       "      <td>NaN</td>\n",
       "      <td>sell</td>\n",
       "      <td>21/02/2017</td>\n",
       "      <td>0.577</td>\n",
       "    </tr>\n",
       "    <tr>\n",
       "      <th>2017-02-10</th>\n",
       "      <td>10/02/2017</td>\n",
       "      <td>3.034</td>\n",
       "      <td>buy</td>\n",
       "      <td>06/03/2017</td>\n",
       "      <td>-0.133</td>\n",
       "      <td>no sell</td>\n",
       "      <td>NaN</td>\n",
       "      <td>NaN</td>\n",
       "    </tr>\n",
       "    <tr>\n",
       "      <th>...</th>\n",
       "      <td>...</td>\n",
       "      <td>...</td>\n",
       "      <td>...</td>\n",
       "      <td>...</td>\n",
       "      <td>...</td>\n",
       "      <td>...</td>\n",
       "      <td>...</td>\n",
       "      <td>...</td>\n",
       "    </tr>\n",
       "    <tr>\n",
       "      <th>2018-01-02</th>\n",
       "      <td>02/01/2018</td>\n",
       "      <td>3.056</td>\n",
       "      <td>NaN</td>\n",
       "      <td>NaN</td>\n",
       "      <td>NaN</td>\n",
       "      <td>NaN</td>\n",
       "      <td>NaN</td>\n",
       "      <td>NaN</td>\n",
       "    </tr>\n",
       "    <tr>\n",
       "      <th>2018-01-03</th>\n",
       "      <td>03/01/2018</td>\n",
       "      <td>3.008</td>\n",
       "      <td>NaN</td>\n",
       "      <td>NaN</td>\n",
       "      <td>NaN</td>\n",
       "      <td>NaN</td>\n",
       "      <td>NaN</td>\n",
       "      <td>NaN</td>\n",
       "    </tr>\n",
       "    <tr>\n",
       "      <th>2018-01-04</th>\n",
       "      <td>04/01/2018</td>\n",
       "      <td>2.880</td>\n",
       "      <td>NaN</td>\n",
       "      <td>NaN</td>\n",
       "      <td>NaN</td>\n",
       "      <td>NaN</td>\n",
       "      <td>NaN</td>\n",
       "      <td>NaN</td>\n",
       "    </tr>\n",
       "    <tr>\n",
       "      <th>2018-01-05</th>\n",
       "      <td>05/01/2018</td>\n",
       "      <td>2.795</td>\n",
       "      <td>NaN</td>\n",
       "      <td>NaN</td>\n",
       "      <td>NaN</td>\n",
       "      <td>NaN</td>\n",
       "      <td>NaN</td>\n",
       "      <td>NaN</td>\n",
       "    </tr>\n",
       "    <tr>\n",
       "      <th>2018-01-08</th>\n",
       "      <td>08/01/2018</td>\n",
       "      <td>2.835</td>\n",
       "      <td>NaN</td>\n",
       "      <td>NaN</td>\n",
       "      <td>NaN</td>\n",
       "      <td>NaN</td>\n",
       "      <td>NaN</td>\n",
       "      <td>NaN</td>\n",
       "    </tr>\n",
       "    <tr>\n",
       "      <th>2018-01-09</th>\n",
       "      <td>09/01/2018</td>\n",
       "      <td>2.923</td>\n",
       "      <td>NaN</td>\n",
       "      <td>NaN</td>\n",
       "      <td>NaN</td>\n",
       "      <td>NaN</td>\n",
       "      <td>NaN</td>\n",
       "      <td>NaN</td>\n",
       "    </tr>\n",
       "    <tr>\n",
       "      <th>2018-01-10</th>\n",
       "      <td>10/01/2018</td>\n",
       "      <td>2.906</td>\n",
       "      <td>NaN</td>\n",
       "      <td>NaN</td>\n",
       "      <td>NaN</td>\n",
       "      <td>NaN</td>\n",
       "      <td>NaN</td>\n",
       "      <td>NaN</td>\n",
       "    </tr>\n",
       "    <tr>\n",
       "      <th>2018-01-11</th>\n",
       "      <td>11/01/2018</td>\n",
       "      <td>3.084</td>\n",
       "      <td>NaN</td>\n",
       "      <td>NaN</td>\n",
       "      <td>NaN</td>\n",
       "      <td>NaN</td>\n",
       "      <td>NaN</td>\n",
       "      <td>NaN</td>\n",
       "    </tr>\n",
       "    <tr>\n",
       "      <th>2018-01-12</th>\n",
       "      <td>12/01/2018</td>\n",
       "      <td>3.200</td>\n",
       "      <td>NaN</td>\n",
       "      <td>NaN</td>\n",
       "      <td>NaN</td>\n",
       "      <td>NaN</td>\n",
       "      <td>NaN</td>\n",
       "      <td>NaN</td>\n",
       "    </tr>\n",
       "    <tr>\n",
       "      <th>2018-01-15</th>\n",
       "      <td>15/01/2018</td>\n",
       "      <td>3.200</td>\n",
       "      <td>NaN</td>\n",
       "      <td>NaN</td>\n",
       "      <td>NaN</td>\n",
       "      <td>NaN</td>\n",
       "      <td>NaN</td>\n",
       "      <td>NaN</td>\n",
       "    </tr>\n",
       "    <tr>\n",
       "      <th>2018-01-16</th>\n",
       "      <td>16/01/2018</td>\n",
       "      <td>3.129</td>\n",
       "      <td>NaN</td>\n",
       "      <td>NaN</td>\n",
       "      <td>NaN</td>\n",
       "      <td>NaN</td>\n",
       "      <td>NaN</td>\n",
       "      <td>NaN</td>\n",
       "    </tr>\n",
       "    <tr>\n",
       "      <th>2018-01-17</th>\n",
       "      <td>17/01/2018</td>\n",
       "      <td>3.232</td>\n",
       "      <td>NaN</td>\n",
       "      <td>NaN</td>\n",
       "      <td>NaN</td>\n",
       "      <td>NaN</td>\n",
       "      <td>NaN</td>\n",
       "      <td>NaN</td>\n",
       "    </tr>\n",
       "    <tr>\n",
       "      <th>2018-01-18</th>\n",
       "      <td>18/01/2018</td>\n",
       "      <td>3.189</td>\n",
       "      <td>NaN</td>\n",
       "      <td>NaN</td>\n",
       "      <td>NaN</td>\n",
       "      <td>NaN</td>\n",
       "      <td>NaN</td>\n",
       "      <td>NaN</td>\n",
       "    </tr>\n",
       "    <tr>\n",
       "      <th>2018-01-19</th>\n",
       "      <td>19/01/2018</td>\n",
       "      <td>3.185</td>\n",
       "      <td>NaN</td>\n",
       "      <td>NaN</td>\n",
       "      <td>NaN</td>\n",
       "      <td>NaN</td>\n",
       "      <td>NaN</td>\n",
       "      <td>NaN</td>\n",
       "    </tr>\n",
       "    <tr>\n",
       "      <th>2018-01-22</th>\n",
       "      <td>22/01/2018</td>\n",
       "      <td>3.224</td>\n",
       "      <td>NaN</td>\n",
       "      <td>NaN</td>\n",
       "      <td>NaN</td>\n",
       "      <td>NaN</td>\n",
       "      <td>NaN</td>\n",
       "      <td>NaN</td>\n",
       "    </tr>\n",
       "    <tr>\n",
       "      <th>2018-01-23</th>\n",
       "      <td>23/01/2018</td>\n",
       "      <td>3.444</td>\n",
       "      <td>NaN</td>\n",
       "      <td>NaN</td>\n",
       "      <td>NaN</td>\n",
       "      <td>NaN</td>\n",
       "      <td>NaN</td>\n",
       "      <td>NaN</td>\n",
       "    </tr>\n",
       "    <tr>\n",
       "      <th>2018-01-24</th>\n",
       "      <td>24/01/2018</td>\n",
       "      <td>3.509</td>\n",
       "      <td>NaN</td>\n",
       "      <td>NaN</td>\n",
       "      <td>NaN</td>\n",
       "      <td>NaN</td>\n",
       "      <td>NaN</td>\n",
       "      <td>NaN</td>\n",
       "    </tr>\n",
       "    <tr>\n",
       "      <th>2018-01-25</th>\n",
       "      <td>25/01/2018</td>\n",
       "      <td>3.447</td>\n",
       "      <td>NaN</td>\n",
       "      <td>NaN</td>\n",
       "      <td>NaN</td>\n",
       "      <td>NaN</td>\n",
       "      <td>NaN</td>\n",
       "      <td>NaN</td>\n",
       "    </tr>\n",
       "    <tr>\n",
       "      <th>2018-01-26</th>\n",
       "      <td>26/01/2018</td>\n",
       "      <td>3.505</td>\n",
       "      <td>NaN</td>\n",
       "      <td>NaN</td>\n",
       "      <td>NaN</td>\n",
       "      <td>NaN</td>\n",
       "      <td>NaN</td>\n",
       "      <td>NaN</td>\n",
       "    </tr>\n",
       "    <tr>\n",
       "      <th>2018-01-29</th>\n",
       "      <td>29/01/2018</td>\n",
       "      <td>3.631</td>\n",
       "      <td>NaN</td>\n",
       "      <td>NaN</td>\n",
       "      <td>NaN</td>\n",
       "      <td>NaN</td>\n",
       "      <td>NaN</td>\n",
       "      <td>NaN</td>\n",
       "    </tr>\n",
       "    <tr>\n",
       "      <th>2018-01-30</th>\n",
       "      <td>30/01/2018</td>\n",
       "      <td>3.195</td>\n",
       "      <td>NaN</td>\n",
       "      <td>NaN</td>\n",
       "      <td>NaN</td>\n",
       "      <td>NaN</td>\n",
       "      <td>NaN</td>\n",
       "      <td>NaN</td>\n",
       "    </tr>\n",
       "    <tr>\n",
       "      <th>2018-01-31</th>\n",
       "      <td>31/01/2018</td>\n",
       "      <td>2.995</td>\n",
       "      <td>NaN</td>\n",
       "      <td>NaN</td>\n",
       "      <td>NaN</td>\n",
       "      <td>NaN</td>\n",
       "      <td>NaN</td>\n",
       "      <td>NaN</td>\n",
       "    </tr>\n",
       "    <tr>\n",
       "      <th>2018-02-01</th>\n",
       "      <td>01/02/2018</td>\n",
       "      <td>2.856</td>\n",
       "      <td>NaN</td>\n",
       "      <td>NaN</td>\n",
       "      <td>NaN</td>\n",
       "      <td>NaN</td>\n",
       "      <td>NaN</td>\n",
       "      <td>NaN</td>\n",
       "    </tr>\n",
       "    <tr>\n",
       "      <th>2018-02-02</th>\n",
       "      <td>02/02/2018</td>\n",
       "      <td>2.846</td>\n",
       "      <td>NaN</td>\n",
       "      <td>NaN</td>\n",
       "      <td>NaN</td>\n",
       "      <td>NaN</td>\n",
       "      <td>NaN</td>\n",
       "      <td>NaN</td>\n",
       "    </tr>\n",
       "    <tr>\n",
       "      <th>2018-02-05</th>\n",
       "      <td>05/02/2018</td>\n",
       "      <td>2.747</td>\n",
       "      <td>NaN</td>\n",
       "      <td>NaN</td>\n",
       "      <td>NaN</td>\n",
       "      <td>NaN</td>\n",
       "      <td>NaN</td>\n",
       "      <td>NaN</td>\n",
       "    </tr>\n",
       "    <tr>\n",
       "      <th>2018-02-06</th>\n",
       "      <td>06/02/2018</td>\n",
       "      <td>2.759</td>\n",
       "      <td>NaN</td>\n",
       "      <td>NaN</td>\n",
       "      <td>NaN</td>\n",
       "      <td>NaN</td>\n",
       "      <td>NaN</td>\n",
       "      <td>NaN</td>\n",
       "    </tr>\n",
       "    <tr>\n",
       "      <th>2018-02-07</th>\n",
       "      <td>07/02/2018</td>\n",
       "      <td>2.702</td>\n",
       "      <td>NaN</td>\n",
       "      <td>NaN</td>\n",
       "      <td>NaN</td>\n",
       "      <td>NaN</td>\n",
       "      <td>NaN</td>\n",
       "      <td>NaN</td>\n",
       "    </tr>\n",
       "    <tr>\n",
       "      <th>2018-02-08</th>\n",
       "      <td>08/02/2018</td>\n",
       "      <td>2.697</td>\n",
       "      <td>NaN</td>\n",
       "      <td>NaN</td>\n",
       "      <td>NaN</td>\n",
       "      <td>NaN</td>\n",
       "      <td>NaN</td>\n",
       "      <td>NaN</td>\n",
       "    </tr>\n",
       "    <tr>\n",
       "      <th>2018-02-09</th>\n",
       "      <td>09/02/2018</td>\n",
       "      <td>2.584</td>\n",
       "      <td>NaN</td>\n",
       "      <td>NaN</td>\n",
       "      <td>NaN</td>\n",
       "      <td>NaN</td>\n",
       "      <td>NaN</td>\n",
       "      <td>NaN</td>\n",
       "    </tr>\n",
       "    <tr>\n",
       "      <th>2018-02-12</th>\n",
       "      <td>12/02/2018</td>\n",
       "      <td>2.552</td>\n",
       "      <td>NaN</td>\n",
       "      <td>NaN</td>\n",
       "      <td>NaN</td>\n",
       "      <td>NaN</td>\n",
       "      <td>NaN</td>\n",
       "      <td>NaN</td>\n",
       "    </tr>\n",
       "  </tbody>\n",
       "</table>\n",
       "<p>291 rows × 8 columns</p>\n",
       "</div>"
      ],
      "text/plain": [
       "                   Day  Price     buy       buy_r  profit     sell  \\\n",
       "2017-01-02  02/01/2017  3.724     buy  13/02/2017  -0.780  no sell   \n",
       "2017-01-03  03/01/2017  3.327     buy  14/02/2017  -0.422  no sell   \n",
       "2017-01-04  04/01/2017  3.267     buy  15/02/2017  -0.342  no sell   \n",
       "2017-01-05  05/01/2017  3.273     buy  16/02/2017  -0.419  no sell   \n",
       "2017-01-06  06/01/2017  3.285     buy  17/02/2017  -0.451  no sell   \n",
       "2017-01-09  09/01/2017  3.103     buy  07/02/2017   0.027  no sell   \n",
       "2017-01-10  10/01/2017  3.278  no buy         NaN     NaN     sell   \n",
       "2017-01-11  11/01/2017  3.224     buy  07/02/2017  -0.094  no sell   \n",
       "2017-01-12  12/01/2017  3.386  no buy         NaN     NaN     sell   \n",
       "2017-01-13  13/01/2017  3.419  no buy         NaN     NaN     sell   \n",
       "2017-01-16  16/01/2017  3.419  no buy         NaN     NaN     sell   \n",
       "2017-01-17  17/01/2017  3.412  no buy         NaN     NaN     sell   \n",
       "2017-01-18  18/01/2017  3.302     buy  01/03/2017  -0.503  no sell   \n",
       "2017-01-19  19/01/2017  3.368  no buy         NaN     NaN     sell   \n",
       "2017-01-20  20/01/2017  3.204     buy  03/03/2017  -0.377  no sell   \n",
       "2017-01-23  23/01/2017  3.243     buy  06/03/2017  -0.342  no sell   \n",
       "2017-01-24  24/01/2017  3.279     buy  07/03/2017  -0.455  no sell   \n",
       "2017-01-25  25/01/2017  3.332  no buy         NaN     NaN     sell   \n",
       "2017-01-26  26/01/2017  3.382  no buy         NaN     NaN     sell   \n",
       "2017-01-27  27/01/2017  3.391  no buy         NaN     NaN     sell   \n",
       "2017-01-30  30/01/2017  3.232     buy  13/03/2017  -0.189  no sell   \n",
       "2017-01-31  31/01/2017  3.117     buy  14/03/2017  -0.179  no sell   \n",
       "2017-02-01  01/02/2017  3.168     buy  15/03/2017  -0.187  no sell   \n",
       "2017-02-02  02/02/2017  3.187     buy  16/03/2017  -0.285  no sell   \n",
       "2017-02-03  03/02/2017  3.063     buy  28/02/2017  -0.289  no sell   \n",
       "2017-02-06  06/02/2017  3.050     buy  28/02/2017  -0.276  no sell   \n",
       "2017-02-07  07/02/2017  3.130  no buy         NaN     NaN     sell   \n",
       "2017-02-08  08/02/2017  3.126  no buy         NaN     NaN     sell   \n",
       "2017-02-09  09/02/2017  3.141  no buy         NaN     NaN     sell   \n",
       "2017-02-10  10/02/2017  3.034     buy  06/03/2017  -0.133  no sell   \n",
       "...                ...    ...     ...         ...     ...      ...   \n",
       "2018-01-02  02/01/2018  3.056     NaN         NaN     NaN      NaN   \n",
       "2018-01-03  03/01/2018  3.008     NaN         NaN     NaN      NaN   \n",
       "2018-01-04  04/01/2018  2.880     NaN         NaN     NaN      NaN   \n",
       "2018-01-05  05/01/2018  2.795     NaN         NaN     NaN      NaN   \n",
       "2018-01-08  08/01/2018  2.835     NaN         NaN     NaN      NaN   \n",
       "2018-01-09  09/01/2018  2.923     NaN         NaN     NaN      NaN   \n",
       "2018-01-10  10/01/2018  2.906     NaN         NaN     NaN      NaN   \n",
       "2018-01-11  11/01/2018  3.084     NaN         NaN     NaN      NaN   \n",
       "2018-01-12  12/01/2018  3.200     NaN         NaN     NaN      NaN   \n",
       "2018-01-15  15/01/2018  3.200     NaN         NaN     NaN      NaN   \n",
       "2018-01-16  16/01/2018  3.129     NaN         NaN     NaN      NaN   \n",
       "2018-01-17  17/01/2018  3.232     NaN         NaN     NaN      NaN   \n",
       "2018-01-18  18/01/2018  3.189     NaN         NaN     NaN      NaN   \n",
       "2018-01-19  19/01/2018  3.185     NaN         NaN     NaN      NaN   \n",
       "2018-01-22  22/01/2018  3.224     NaN         NaN     NaN      NaN   \n",
       "2018-01-23  23/01/2018  3.444     NaN         NaN     NaN      NaN   \n",
       "2018-01-24  24/01/2018  3.509     NaN         NaN     NaN      NaN   \n",
       "2018-01-25  25/01/2018  3.447     NaN         NaN     NaN      NaN   \n",
       "2018-01-26  26/01/2018  3.505     NaN         NaN     NaN      NaN   \n",
       "2018-01-29  29/01/2018  3.631     NaN         NaN     NaN      NaN   \n",
       "2018-01-30  30/01/2018  3.195     NaN         NaN     NaN      NaN   \n",
       "2018-01-31  31/01/2018  2.995     NaN         NaN     NaN      NaN   \n",
       "2018-02-01  01/02/2018  2.856     NaN         NaN     NaN      NaN   \n",
       "2018-02-02  02/02/2018  2.846     NaN         NaN     NaN      NaN   \n",
       "2018-02-05  05/02/2018  2.747     NaN         NaN     NaN      NaN   \n",
       "2018-02-06  06/02/2018  2.759     NaN         NaN     NaN      NaN   \n",
       "2018-02-07  07/02/2018  2.702     NaN         NaN     NaN      NaN   \n",
       "2018-02-08  08/02/2018  2.697     NaN         NaN     NaN      NaN   \n",
       "2018-02-09  09/02/2018  2.584     NaN         NaN     NaN      NaN   \n",
       "2018-02-12  12/02/2018  2.552     NaN         NaN     NaN      NaN   \n",
       "\n",
       "                sell_r  profit2  \n",
       "2017-01-02         NaN      NaN  \n",
       "2017-01-03         NaN      NaN  \n",
       "2017-01-04         NaN      NaN  \n",
       "2017-01-05         NaN      NaN  \n",
       "2017-01-06         NaN      NaN  \n",
       "2017-01-09         NaN      NaN  \n",
       "2017-01-10  20/01/2017    0.074  \n",
       "2017-01-11         NaN      NaN  \n",
       "2017-01-12  30/01/2017    0.154  \n",
       "2017-01-13  30/01/2017    0.187  \n",
       "2017-01-16  30/01/2017    0.187  \n",
       "2017-01-17  30/01/2017    0.180  \n",
       "2017-01-18         NaN      NaN  \n",
       "2017-01-19  10/02/2017    0.334  \n",
       "2017-01-20         NaN      NaN  \n",
       "2017-01-23         NaN      NaN  \n",
       "2017-01-24         NaN      NaN  \n",
       "2017-01-25  16/02/2017    0.478  \n",
       "2017-01-26  16/02/2017    0.528  \n",
       "2017-01-27  21/02/2017    0.827  \n",
       "2017-01-30         NaN      NaN  \n",
       "2017-01-31         NaN      NaN  \n",
       "2017-02-01         NaN      NaN  \n",
       "2017-02-02         NaN      NaN  \n",
       "2017-02-03         NaN      NaN  \n",
       "2017-02-06         NaN      NaN  \n",
       "2017-02-07  21/02/2017    0.566  \n",
       "2017-02-08  21/02/2017    0.562  \n",
       "2017-02-09  21/02/2017    0.577  \n",
       "2017-02-10         NaN      NaN  \n",
       "...                ...      ...  \n",
       "2018-01-02         NaN      NaN  \n",
       "2018-01-03         NaN      NaN  \n",
       "2018-01-04         NaN      NaN  \n",
       "2018-01-05         NaN      NaN  \n",
       "2018-01-08         NaN      NaN  \n",
       "2018-01-09         NaN      NaN  \n",
       "2018-01-10         NaN      NaN  \n",
       "2018-01-11         NaN      NaN  \n",
       "2018-01-12         NaN      NaN  \n",
       "2018-01-15         NaN      NaN  \n",
       "2018-01-16         NaN      NaN  \n",
       "2018-01-17         NaN      NaN  \n",
       "2018-01-18         NaN      NaN  \n",
       "2018-01-19         NaN      NaN  \n",
       "2018-01-22         NaN      NaN  \n",
       "2018-01-23         NaN      NaN  \n",
       "2018-01-24         NaN      NaN  \n",
       "2018-01-25         NaN      NaN  \n",
       "2018-01-26         NaN      NaN  \n",
       "2018-01-29         NaN      NaN  \n",
       "2018-01-30         NaN      NaN  \n",
       "2018-01-31         NaN      NaN  \n",
       "2018-02-01         NaN      NaN  \n",
       "2018-02-02         NaN      NaN  \n",
       "2018-02-05         NaN      NaN  \n",
       "2018-02-06         NaN      NaN  \n",
       "2018-02-07         NaN      NaN  \n",
       "2018-02-08         NaN      NaN  \n",
       "2018-02-09         NaN      NaN  \n",
       "2018-02-12         NaN      NaN  \n",
       "\n",
       "[291 rows x 8 columns]"
      ]
     },
     "execution_count": 10,
     "metadata": {},
     "output_type": "execute_result"
    }
   ],
   "source": [
    "result"
   ]
  },
  {
   "cell_type": "code",
   "execution_count": null,
   "metadata": {
    "collapsed": true
   },
   "outputs": [],
   "source": []
  },
  {
   "cell_type": "code",
   "execution_count": null,
   "metadata": {
    "collapsed": true
   },
   "outputs": [],
   "source": []
  },
  {
   "cell_type": "code",
   "execution_count": null,
   "metadata": {
    "collapsed": true
   },
   "outputs": [],
   "source": []
  },
  {
   "cell_type": "code",
   "execution_count": null,
   "metadata": {
    "collapsed": true
   },
   "outputs": [],
   "source": []
  },
  {
   "cell_type": "code",
   "execution_count": null,
   "metadata": {
    "collapsed": true
   },
   "outputs": [],
   "source": []
  },
  {
   "cell_type": "code",
   "execution_count": null,
   "metadata": {
    "collapsed": true
   },
   "outputs": [],
   "source": []
  },
  {
   "cell_type": "code",
   "execution_count": null,
   "metadata": {
    "collapsed": true
   },
   "outputs": [],
   "source": []
  }
 ],
 "metadata": {
  "kernelspec": {
   "display_name": "Python 3",
   "language": "python",
   "name": "python3"
  },
  "language_info": {
   "codemirror_mode": {
    "name": "ipython",
    "version": 3
   },
   "file_extension": ".py",
   "mimetype": "text/x-python",
   "name": "python",
   "nbconvert_exporter": "python",
   "pygments_lexer": "ipython3",
   "version": "3.6.3"
  }
 },
 "nbformat": 4,
 "nbformat_minor": 2
}
